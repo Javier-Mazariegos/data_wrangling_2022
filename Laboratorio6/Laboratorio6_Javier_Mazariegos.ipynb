{
 "cells": [
  {
   "cell_type": "markdown",
   "id": "d477170c",
   "metadata": {},
   "source": [
    "# Laboratorio 6\n",
    "## Javier Alejandro Mazariegos Godoy 20200223"
   ]
  },
  {
   "cell_type": "code",
   "execution_count": 323,
   "id": "5b2a76c0",
   "metadata": {},
   "outputs": [],
   "source": [
    "import re"
   ]
  },
  {
   "cell_type": "markdown",
   "id": "65137388",
   "metadata": {},
   "source": [
    "### 1. Genere una expresión regular que sea capaz de detectar las placas de un vehículo particular guatemalteco."
   ]
  },
  {
   "cell_type": "code",
   "execution_count": 330,
   "id": "f08d44fb",
   "metadata": {},
   "outputs": [
    {
     "data": {
      "text/plain": [
       "['P001SPT']"
      ]
     },
     "execution_count": 330,
     "metadata": {},
     "output_type": "execute_result"
    }
   ],
   "source": [
    "string_1 = \"P001SPT\"\n",
    "pattern_1 = r\"\\bP[0-9]{3}[B-DF-HJ-NP-TV-Z]{3}\\b\"\n",
    "re.findall(pattern_1,string_1)"
   ]
  },
  {
   "cell_type": "markdown",
   "id": "e7fd1779",
   "metadata": {},
   "source": [
    "### 2.\tGenere una expresión regular que valide si un archivo es de tipo .pdf o jpg."
   ]
  },
  {
   "cell_type": "code",
   "execution_count": 331,
   "id": "2f6de4c7",
   "metadata": {},
   "outputs": [
    {
     "data": {
      "text/plain": [
       "['Ejemplo1.pdf', 'prueba2.PDF', 'respuestas_del_examen.jpg', 'amor.JPG']"
      ]
     },
     "execution_count": 331,
     "metadata": {},
     "output_type": "execute_result"
    }
   ],
   "source": [
    "string_2 = \"Ejemplo1.pdf prueba2.PDF respuestas_del_examen.jpg amor.JPG\"\n",
    "pattern_2 = r\"([A-z0-9]*\\.jpg|[A-z0-9]*\\.pdf|[A-z0-9]*\\.PDF|[A-z0-9]*\\.JPG)\"\n",
    "re.findall(pattern_2,string_2)"
   ]
  },
  {
   "cell_type": "markdown",
   "id": "7b088e23",
   "metadata": {},
   "source": [
    "### 4.\tCree una expresión regular para validar un numero de carnet de la Universidad Galileo, por ejemplo 19002324 donde los primeros dos dígitos representan el año en el que el alumno se inscribió los cuales pueden variar desde el 01 (año 2001) hasta el 30 (año 2030). Los siguientes dos dígitos son cero (00) los cuales van por default y los últimos cuatro dígitos son un número que va desde el 1110 hasta el 8970. Para dar su respuesta utilice la notación de expresiones regulares."
   ]
  },
  {
   "cell_type": "code",
   "execution_count": 332,
   "id": "d3e2ec9c",
   "metadata": {},
   "outputs": [
    {
     "data": {
      "text/plain": [
       "['19002370']"
      ]
     },
     "execution_count": 332,
     "metadata": {},
     "output_type": "execute_result"
    }
   ],
   "source": [
    "string_4 = \"19002370\"\n",
    "pattern_4 = r\"\\b(?:[0-2][1-9]|10|20|30)00[1-8][1-9](?:[1-6][0-9]|70)\\b\"\n",
    "re.findall(pattern_4,string_4)"
   ]
  },
  {
   "cell_type": "markdown",
   "id": "622deba1",
   "metadata": {},
   "source": [
    "### 5.\tCree una expresión regular que encuentre todas las palabras de la primera línea, pero ninguna de la segunda. \n",
    "    a.\tpit, spot, spate, slap two, respite\n",
    "    b.\tpt,Pot,peat,part"
   ]
  },
  {
   "cell_type": "code",
   "execution_count": 333,
   "id": "9648080d",
   "metadata": {},
   "outputs": [
    {
     "data": {
      "text/plain": [
       "['pit', 'spot', 'spate', 'slap', 'two', 'respite']"
      ]
     },
     "execution_count": 333,
     "metadata": {},
     "output_type": "execute_result"
    }
   ],
   "source": [
    "string_5 = \"pit, spot, spate, slap two, respite, pt, Pot, peat, part\"\n",
    "pattern_5 = r\"pit|spot|spate|slap|two|respite\"\n",
    "re.findall(pattern_5,string_5)"
   ]
  },
  {
   "cell_type": "markdown",
   "id": "0d6579ff",
   "metadata": {},
   "source": [
    "### 6.\tCree una expresión regular para obtener los números telefónicos de Guatemala. Estos pueden contener al inicio +502 o 502, pueden estar separados por un espacio en blanco o un guión o juntos. Notar que los números telefónicos pueden empezar únicamente con 4,5,6 o 2.\n",
    "    a.\t+50254821151, 4210-7640, 52018150, 2434 6854, 11234569, 50211234578"
   ]
  },
  {
   "cell_type": "code",
   "execution_count": 334,
   "id": "27083fcd",
   "metadata": {},
   "outputs": [
    {
     "data": {
      "text/plain": [
       "['50254821151', '4210-7640', '52018150', '2434 6854']"
      ]
     },
     "execution_count": 334,
     "metadata": {},
     "output_type": "execute_result"
    }
   ],
   "source": [
    "string_6 = \"+50254821151, 4210-7640, 52018150, 2434 6854, 11234569, 50211234578\"\n",
    "pattern_6 = r\"\\b(?:\\+?502)?(?:2|4|5|6)(?:\\d{7}|\\d{3}-\\d{4}|\\d{3} \\d{4})\\b\"\n",
    "re.findall(pattern_6,string_6)"
   ]
  },
  {
   "cell_type": "markdown",
   "id": "e25dad0c",
   "metadata": {},
   "source": [
    "### 7.\tGenere una expresión regular que sea capaz de obtener correos de la UFM."
   ]
  },
  {
   "cell_type": "markdown",
   "id": "a29712c5",
   "metadata": {},
   "source": [
    "Debido a que no se proporcionó ningún formato de como se compone un correo UFM y no se encontro nada en linea, se supuso que:\n",
    "* Un correo ufm debe de tener por lo menos un caracter alfanumerico antes del @ y solo está compuesto por minusculas.\n",
    "* Después del @ solo puede seguir la cadena ufm.edu\n",
    "* Antes del @ puede contener puntos y guiones\n",
    "\n",
    "Ejemplo:\n",
    "* asesoriaestudiantes.fce@ufm.edu\n",
    "* director-ceta@ufm.edu\n",
    "* en.direccion.mfin@ufm.edu\n",
    "* javiermazariegos@ufm.edu"
   ]
  },
  {
   "cell_type": "code",
   "execution_count": 335,
   "id": "dcc1a3a2",
   "metadata": {},
   "outputs": [
    {
     "data": {
      "text/plain": [
       "['javiermazariegos@ufm.edu',\n",
       " 'asesoriaestudiantes.fce@ufm.edu',\n",
       " 'director-ceta@ufm.edu',\n",
       " 'en.direccion.mfin@ufm.edu']"
      ]
     },
     "execution_count": 335,
     "metadata": {},
     "output_type": "execute_result"
    }
   ],
   "source": [
    "string_7 = \"javiermazariegos@ufm.edu, asesoriaestudiantes.fce@ufm.edu, director-ceta@ufm.edu, en.direccion.mfin@ufm.edu\"\n",
    "pattern_7 = r\"\\b(?:[a-z0-9]|\\-|\\.)+@ufm\\.edu\\b\"\n",
    "re.findall(pattern_7,string_7)"
   ]
  }
 ],
 "metadata": {
  "kernelspec": {
   "display_name": "Python 3 (ipykernel)",
   "language": "python",
   "name": "python3"
  },
  "language_info": {
   "codemirror_mode": {
    "name": "ipython",
    "version": 3
   },
   "file_extension": ".py",
   "mimetype": "text/x-python",
   "name": "python",
   "nbconvert_exporter": "python",
   "pygments_lexer": "ipython3",
   "version": "3.9.13"
  }
 },
 "nbformat": 4,
 "nbformat_minor": 5
}
