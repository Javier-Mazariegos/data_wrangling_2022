{
 "cells": [
  {
   "cell_type": "markdown",
   "metadata": {},
   "source": [
    "# Laboratorio 8 - Missing Data and Feature Engineering"
   ]
  },
  {
   "cell_type": "markdown",
   "metadata": {},
   "source": [
    "Javier Alejandro Mazariegos Godoy 20200223"
   ]
  },
  {
   "cell_type": "code",
   "execution_count": 2,
   "metadata": {},
   "outputs": [],
   "source": [
    "import pandas as pd\n",
    "import numpy as np"
   ]
  },
  {
   "cell_type": "code",
   "execution_count": 3,
   "metadata": {},
   "outputs": [],
   "source": [
    "data = pd.read_csv(\"titanic_MD.csv\")\n",
    "titanic = pd.read_csv(\"titanic.csv\")"
   ]
  },
  {
   "cell_type": "code",
   "execution_count": 4,
   "metadata": {},
   "outputs": [
    {
     "data": {
      "text/html": [
       "<div>\n",
       "<style scoped>\n",
       "    .dataframe tbody tr th:only-of-type {\n",
       "        vertical-align: middle;\n",
       "    }\n",
       "\n",
       "    .dataframe tbody tr th {\n",
       "        vertical-align: top;\n",
       "    }\n",
       "\n",
       "    .dataframe thead th {\n",
       "        text-align: right;\n",
       "    }\n",
       "</style>\n",
       "<table border=\"1\" class=\"dataframe\">\n",
       "  <thead>\n",
       "    <tr style=\"text-align: right;\">\n",
       "      <th></th>\n",
       "      <th>PassengerId</th>\n",
       "      <th>Survived</th>\n",
       "      <th>Pclass</th>\n",
       "      <th>Name</th>\n",
       "      <th>Sex</th>\n",
       "      <th>Age</th>\n",
       "      <th>SibSp</th>\n",
       "      <th>Parch</th>\n",
       "      <th>Ticket</th>\n",
       "      <th>Fare</th>\n",
       "      <th>Cabin</th>\n",
       "      <th>Embarked</th>\n",
       "    </tr>\n",
       "  </thead>\n",
       "  <tbody>\n",
       "    <tr>\n",
       "      <th>0</th>\n",
       "      <td>2</td>\n",
       "      <td>1</td>\n",
       "      <td>1</td>\n",
       "      <td>Cumings, Mrs. John Bradley (Florence Briggs Th...</td>\n",
       "      <td>female</td>\n",
       "      <td>38.0</td>\n",
       "      <td>1</td>\n",
       "      <td>0</td>\n",
       "      <td>PC 17599</td>\n",
       "      <td>71.2833</td>\n",
       "      <td>C85</td>\n",
       "      <td>C</td>\n",
       "    </tr>\n",
       "    <tr>\n",
       "      <th>1</th>\n",
       "      <td>4</td>\n",
       "      <td>1</td>\n",
       "      <td>1</td>\n",
       "      <td>Futrelle, Mrs. Jacques Heath (Lily May Peel)</td>\n",
       "      <td>female</td>\n",
       "      <td>35.0</td>\n",
       "      <td>1</td>\n",
       "      <td>0</td>\n",
       "      <td>113803</td>\n",
       "      <td>53.1000</td>\n",
       "      <td>C123</td>\n",
       "      <td>S</td>\n",
       "    </tr>\n",
       "    <tr>\n",
       "      <th>2</th>\n",
       "      <td>7</td>\n",
       "      <td>0</td>\n",
       "      <td>1</td>\n",
       "      <td>McCarthy, Mr. Timothy J</td>\n",
       "      <td>male</td>\n",
       "      <td>54.0</td>\n",
       "      <td>0</td>\n",
       "      <td>0</td>\n",
       "      <td>17463</td>\n",
       "      <td>51.8625</td>\n",
       "      <td>E46</td>\n",
       "      <td>S</td>\n",
       "    </tr>\n",
       "    <tr>\n",
       "      <th>3</th>\n",
       "      <td>11</td>\n",
       "      <td>1</td>\n",
       "      <td>3</td>\n",
       "      <td>Sandstrom, Miss. Marguerite Rut</td>\n",
       "      <td>female</td>\n",
       "      <td>4.0</td>\n",
       "      <td>1</td>\n",
       "      <td>1</td>\n",
       "      <td>PP 9549</td>\n",
       "      <td>16.7000</td>\n",
       "      <td>G6</td>\n",
       "      <td>S</td>\n",
       "    </tr>\n",
       "    <tr>\n",
       "      <th>4</th>\n",
       "      <td>12</td>\n",
       "      <td>1</td>\n",
       "      <td>1</td>\n",
       "      <td>Bonnell, Miss. Elizabeth</td>\n",
       "      <td>female</td>\n",
       "      <td>58.0</td>\n",
       "      <td>0</td>\n",
       "      <td>0</td>\n",
       "      <td>113783</td>\n",
       "      <td>26.5500</td>\n",
       "      <td>C103</td>\n",
       "      <td>S</td>\n",
       "    </tr>\n",
       "    <tr>\n",
       "      <th>...</th>\n",
       "      <td>...</td>\n",
       "      <td>...</td>\n",
       "      <td>...</td>\n",
       "      <td>...</td>\n",
       "      <td>...</td>\n",
       "      <td>...</td>\n",
       "      <td>...</td>\n",
       "      <td>...</td>\n",
       "      <td>...</td>\n",
       "      <td>...</td>\n",
       "      <td>...</td>\n",
       "      <td>...</td>\n",
       "    </tr>\n",
       "    <tr>\n",
       "      <th>178</th>\n",
       "      <td>872</td>\n",
       "      <td>1</td>\n",
       "      <td>1</td>\n",
       "      <td>Beckwith, Mrs. Richard Leonard (Sallie Monypeny)</td>\n",
       "      <td>female</td>\n",
       "      <td>47.0</td>\n",
       "      <td>1</td>\n",
       "      <td>1</td>\n",
       "      <td>11751</td>\n",
       "      <td>52.5542</td>\n",
       "      <td>D35</td>\n",
       "      <td>S</td>\n",
       "    </tr>\n",
       "    <tr>\n",
       "      <th>179</th>\n",
       "      <td>873</td>\n",
       "      <td>0</td>\n",
       "      <td>1</td>\n",
       "      <td>Carlsson, Mr. Frans Olof</td>\n",
       "      <td>male</td>\n",
       "      <td>33.0</td>\n",
       "      <td>0</td>\n",
       "      <td>0</td>\n",
       "      <td>695</td>\n",
       "      <td>5.0000</td>\n",
       "      <td>B51 B53 B55</td>\n",
       "      <td>S</td>\n",
       "    </tr>\n",
       "    <tr>\n",
       "      <th>180</th>\n",
       "      <td>880</td>\n",
       "      <td>1</td>\n",
       "      <td>1</td>\n",
       "      <td>Potter, Mrs. Thomas Jr (Lily Alexenia Wilson)</td>\n",
       "      <td>female</td>\n",
       "      <td>56.0</td>\n",
       "      <td>0</td>\n",
       "      <td>1</td>\n",
       "      <td>11767</td>\n",
       "      <td>83.1583</td>\n",
       "      <td>C50</td>\n",
       "      <td>C</td>\n",
       "    </tr>\n",
       "    <tr>\n",
       "      <th>181</th>\n",
       "      <td>888</td>\n",
       "      <td>1</td>\n",
       "      <td>1</td>\n",
       "      <td>Graham, Miss. Margaret Edith</td>\n",
       "      <td>female</td>\n",
       "      <td>19.0</td>\n",
       "      <td>0</td>\n",
       "      <td>0</td>\n",
       "      <td>112053</td>\n",
       "      <td>30.0000</td>\n",
       "      <td>B42</td>\n",
       "      <td>S</td>\n",
       "    </tr>\n",
       "    <tr>\n",
       "      <th>182</th>\n",
       "      <td>890</td>\n",
       "      <td>1</td>\n",
       "      <td>1</td>\n",
       "      <td>Behr, Mr. Karl Howell</td>\n",
       "      <td>male</td>\n",
       "      <td>26.0</td>\n",
       "      <td>0</td>\n",
       "      <td>0</td>\n",
       "      <td>111369</td>\n",
       "      <td>30.0000</td>\n",
       "      <td>C148</td>\n",
       "      <td>C</td>\n",
       "    </tr>\n",
       "  </tbody>\n",
       "</table>\n",
       "<p>183 rows × 12 columns</p>\n",
       "</div>"
      ],
      "text/plain": [
       "     PassengerId  Survived  Pclass  \\\n",
       "0              2         1       1   \n",
       "1              4         1       1   \n",
       "2              7         0       1   \n",
       "3             11         1       3   \n",
       "4             12         1       1   \n",
       "..           ...       ...     ...   \n",
       "178          872         1       1   \n",
       "179          873         0       1   \n",
       "180          880         1       1   \n",
       "181          888         1       1   \n",
       "182          890         1       1   \n",
       "\n",
       "                                                  Name     Sex   Age  SibSp  \\\n",
       "0    Cumings, Mrs. John Bradley (Florence Briggs Th...  female  38.0      1   \n",
       "1         Futrelle, Mrs. Jacques Heath (Lily May Peel)  female  35.0      1   \n",
       "2                              McCarthy, Mr. Timothy J    male  54.0      0   \n",
       "3                      Sandstrom, Miss. Marguerite Rut  female   4.0      1   \n",
       "4                             Bonnell, Miss. Elizabeth  female  58.0      0   \n",
       "..                                                 ...     ...   ...    ...   \n",
       "178   Beckwith, Mrs. Richard Leonard (Sallie Monypeny)  female  47.0      1   \n",
       "179                           Carlsson, Mr. Frans Olof    male  33.0      0   \n",
       "180      Potter, Mrs. Thomas Jr (Lily Alexenia Wilson)  female  56.0      0   \n",
       "181                       Graham, Miss. Margaret Edith  female  19.0      0   \n",
       "182                              Behr, Mr. Karl Howell    male  26.0      0   \n",
       "\n",
       "     Parch    Ticket     Fare        Cabin Embarked  \n",
       "0        0  PC 17599  71.2833          C85        C  \n",
       "1        0    113803  53.1000         C123        S  \n",
       "2        0     17463  51.8625          E46        S  \n",
       "3        1   PP 9549  16.7000           G6        S  \n",
       "4        0    113783  26.5500         C103        S  \n",
       "..     ...       ...      ...          ...      ...  \n",
       "178      1     11751  52.5542          D35        S  \n",
       "179      0       695   5.0000  B51 B53 B55        S  \n",
       "180      1     11767  83.1583          C50        C  \n",
       "181      0    112053  30.0000          B42        S  \n",
       "182      0    111369  30.0000         C148        C  \n",
       "\n",
       "[183 rows x 12 columns]"
      ]
     },
     "execution_count": 4,
     "metadata": {},
     "output_type": "execute_result"
    }
   ],
   "source": [
    "titanic"
   ]
  },
  {
   "cell_type": "markdown",
   "metadata": {},
   "source": [
    "## Parte 1"
   ]
  },
  {
   "cell_type": "markdown",
   "metadata": {},
   "source": [
    "### 1.\tReporte detallado de missing data para todas las columnas."
   ]
  },
  {
   "cell_type": "code",
   "execution_count": 5,
   "metadata": {},
   "outputs": [
    {
     "data": {
      "text/html": [
       "<div>\n",
       "<style scoped>\n",
       "    .dataframe tbody tr th:only-of-type {\n",
       "        vertical-align: middle;\n",
       "    }\n",
       "\n",
       "    .dataframe tbody tr th {\n",
       "        vertical-align: top;\n",
       "    }\n",
       "\n",
       "    .dataframe thead th {\n",
       "        text-align: right;\n",
       "    }\n",
       "</style>\n",
       "<table border=\"1\" class=\"dataframe\">\n",
       "  <thead>\n",
       "    <tr style=\"text-align: right;\">\n",
       "      <th></th>\n",
       "      <th>PassengerId</th>\n",
       "      <th>Survived</th>\n",
       "      <th>Pclass</th>\n",
       "      <th>Age</th>\n",
       "      <th>SibSp</th>\n",
       "      <th>Parch</th>\n",
       "      <th>Fare</th>\n",
       "    </tr>\n",
       "  </thead>\n",
       "  <tbody>\n",
       "    <tr>\n",
       "      <th>count</th>\n",
       "      <td>183.000000</td>\n",
       "      <td>183.000000</td>\n",
       "      <td>183.000000</td>\n",
       "      <td>158.000000</td>\n",
       "      <td>180.000000</td>\n",
       "      <td>171.000000</td>\n",
       "      <td>175.000000</td>\n",
       "    </tr>\n",
       "    <tr>\n",
       "      <th>mean</th>\n",
       "      <td>455.366120</td>\n",
       "      <td>0.672131</td>\n",
       "      <td>1.191257</td>\n",
       "      <td>35.692532</td>\n",
       "      <td>0.461111</td>\n",
       "      <td>0.461988</td>\n",
       "      <td>78.959191</td>\n",
       "    </tr>\n",
       "    <tr>\n",
       "      <th>std</th>\n",
       "      <td>247.052476</td>\n",
       "      <td>0.470725</td>\n",
       "      <td>0.515187</td>\n",
       "      <td>15.640858</td>\n",
       "      <td>0.646122</td>\n",
       "      <td>0.753435</td>\n",
       "      <td>77.026328</td>\n",
       "    </tr>\n",
       "    <tr>\n",
       "      <th>min</th>\n",
       "      <td>2.000000</td>\n",
       "      <td>0.000000</td>\n",
       "      <td>1.000000</td>\n",
       "      <td>0.920000</td>\n",
       "      <td>0.000000</td>\n",
       "      <td>0.000000</td>\n",
       "      <td>0.000000</td>\n",
       "    </tr>\n",
       "    <tr>\n",
       "      <th>25%</th>\n",
       "      <td>263.500000</td>\n",
       "      <td>0.000000</td>\n",
       "      <td>1.000000</td>\n",
       "      <td>24.000000</td>\n",
       "      <td>0.000000</td>\n",
       "      <td>0.000000</td>\n",
       "      <td>29.700000</td>\n",
       "    </tr>\n",
       "    <tr>\n",
       "      <th>50%</th>\n",
       "      <td>457.000000</td>\n",
       "      <td>1.000000</td>\n",
       "      <td>1.000000</td>\n",
       "      <td>35.500000</td>\n",
       "      <td>0.000000</td>\n",
       "      <td>0.000000</td>\n",
       "      <td>56.929200</td>\n",
       "    </tr>\n",
       "    <tr>\n",
       "      <th>75%</th>\n",
       "      <td>676.000000</td>\n",
       "      <td>1.000000</td>\n",
       "      <td>1.000000</td>\n",
       "      <td>48.000000</td>\n",
       "      <td>1.000000</td>\n",
       "      <td>1.000000</td>\n",
       "      <td>90.539600</td>\n",
       "    </tr>\n",
       "    <tr>\n",
       "      <th>max</th>\n",
       "      <td>890.000000</td>\n",
       "      <td>1.000000</td>\n",
       "      <td>3.000000</td>\n",
       "      <td>80.000000</td>\n",
       "      <td>3.000000</td>\n",
       "      <td>4.000000</td>\n",
       "      <td>512.329200</td>\n",
       "    </tr>\n",
       "  </tbody>\n",
       "</table>\n",
       "</div>"
      ],
      "text/plain": [
       "       PassengerId    Survived      Pclass         Age       SibSp  \\\n",
       "count   183.000000  183.000000  183.000000  158.000000  180.000000   \n",
       "mean    455.366120    0.672131    1.191257   35.692532    0.461111   \n",
       "std     247.052476    0.470725    0.515187   15.640858    0.646122   \n",
       "min       2.000000    0.000000    1.000000    0.920000    0.000000   \n",
       "25%     263.500000    0.000000    1.000000   24.000000    0.000000   \n",
       "50%     457.000000    1.000000    1.000000   35.500000    0.000000   \n",
       "75%     676.000000    1.000000    1.000000   48.000000    1.000000   \n",
       "max     890.000000    1.000000    3.000000   80.000000    3.000000   \n",
       "\n",
       "            Parch        Fare  \n",
       "count  171.000000  175.000000  \n",
       "mean     0.461988   78.959191  \n",
       "std      0.753435   77.026328  \n",
       "min      0.000000    0.000000  \n",
       "25%      0.000000   29.700000  \n",
       "50%      0.000000   56.929200  \n",
       "75%      1.000000   90.539600  \n",
       "max      4.000000  512.329200  "
      ]
     },
     "execution_count": 5,
     "metadata": {},
     "output_type": "execute_result"
    }
   ],
   "source": [
    "data.describe()"
   ]
  },
  {
   "cell_type": "code",
   "execution_count": 6,
   "metadata": {},
   "outputs": [
    {
     "data": {
      "text/plain": [
       "PassengerId     0\n",
       "Survived        0\n",
       "Pclass          0\n",
       "Name            0\n",
       "Sex             0\n",
       "Age            25\n",
       "SibSp           3\n",
       "Parch          12\n",
       "Ticket          0\n",
       "Fare            8\n",
       "Cabin           0\n",
       "Embarked       12\n",
       "dtype: int64"
      ]
     },
     "execution_count": 6,
     "metadata": {},
     "output_type": "execute_result"
    }
   ],
   "source": [
    "data.isna().sum()"
   ]
  },
  {
   "cell_type": "markdown",
   "metadata": {},
   "source": [
    "PassengerId"
   ]
  },
  {
   "cell_type": "code",
   "execution_count": 7,
   "metadata": {},
   "outputs": [
    {
     "data": {
      "text/plain": [
       "array([  2,   4,   7,  11,  12,  22,  24,  28,  53,  55,  63,  67,  76,\n",
       "        89,  93,  97,  98, 103, 111, 119, 124, 125, 137, 138, 140, 149,\n",
       "       152, 171, 175, 178, 184, 194, 195, 196, 206, 210, 216, 219, 225,\n",
       "       231, 246, 249, 252, 253, 258, 263, 264, 269, 270, 274, 276, 292,\n",
       "       293, 298, 300, 306, 308, 310, 311, 312, 319, 320, 326, 328, 330,\n",
       "       332, 333, 337, 338, 340, 341, 342, 346, 357, 367, 370, 371, 378,\n",
       "       391, 394, 395, 413, 430, 431, 435, 436, 439, 446, 450, 453, 454,\n",
       "       457, 461, 463, 474, 485, 487, 488, 493, 497, 499, 505, 506, 513,\n",
       "       516, 517, 521, 524, 537, 540, 541, 545, 551, 557, 559, 572, 573,\n",
       "       578, 582, 584, 586, 588, 592, 600, 610, 619, 622, 626, 628, 631,\n",
       "       633, 642, 646, 648, 660, 663, 672, 680, 682, 690, 691, 699, 700,\n",
       "       701, 702, 708, 711, 713, 716, 717, 718, 725, 731, 738, 742, 743,\n",
       "       746, 749, 752, 760, 764, 766, 773, 780, 782, 783, 790, 797, 803,\n",
       "       807, 810, 821, 824, 836, 854, 858, 863, 868, 872, 873, 880, 888,\n",
       "       890], dtype=int64)"
      ]
     },
     "execution_count": 7,
     "metadata": {},
     "output_type": "execute_result"
    }
   ],
   "source": [
    "np.unique(data[\"PassengerId\"])"
   ]
  },
  {
   "cell_type": "markdown",
   "metadata": {},
   "source": [
    "Survived"
   ]
  },
  {
   "cell_type": "code",
   "execution_count": 8,
   "metadata": {},
   "outputs": [
    {
     "data": {
      "text/plain": [
       "array([0, 1], dtype=int64)"
      ]
     },
     "execution_count": 8,
     "metadata": {},
     "output_type": "execute_result"
    }
   ],
   "source": [
    "np.unique(data[\"Survived\"])"
   ]
  },
  {
   "cell_type": "markdown",
   "metadata": {},
   "source": [
    "Pclass"
   ]
  },
  {
   "cell_type": "code",
   "execution_count": 9,
   "metadata": {},
   "outputs": [
    {
     "data": {
      "text/plain": [
       "array([1, 2, 3], dtype=int64)"
      ]
     },
     "execution_count": 9,
     "metadata": {},
     "output_type": "execute_result"
    }
   ],
   "source": [
    "np.unique(data[\"Pclass\"])"
   ]
  },
  {
   "cell_type": "markdown",
   "metadata": {},
   "source": [
    "Name"
   ]
  },
  {
   "cell_type": "code",
   "execution_count": 10,
   "metadata": {},
   "outputs": [
    {
     "data": {
      "text/plain": [
       "array(['Allen, Miss. Elisabeth Walton', 'Allison, Master. Hudson Trevor',\n",
       "       'Allison, Miss. Helen Loraine',\n",
       "       'Allison, Mrs. Hudson J C (Bessie Waldo Daniels)',\n",
       "       'Anderson, Mr. Harry', 'Andrews, Miss. Kornelia Theodosia',\n",
       "       'Andrews, Mr. Thomas Jr',\n",
       "       'Appleton, Mrs. Edward Dale (Charlotte Lamson)',\n",
       "       'Astor, Mrs. John Jacob (Madeleine Talmadge Force)',\n",
       "       'Aubart, Mme. Leontine Pauline', 'Ball, Mrs. (Ada E Hall)',\n",
       "       'Barkworth, Mr. Algernon Henry Wilson', 'Baxter, Mr. Quigg Edmond',\n",
       "       'Baxter, Mrs. James (Helene DeLaudeniere Chaput)',\n",
       "       'Bazzani, Miss. Albina', 'Becker, Master. Richard F',\n",
       "       'Becker, Miss. Marion Louise', 'Beckwith, Mr. Richard Leonard',\n",
       "       'Beckwith, Mrs. Richard Leonard (Sallie Monypeny)',\n",
       "       'Beesley, Mr. Lawrence', 'Behr, Mr. Karl Howell',\n",
       "       'Bishop, Mr. Dickinson H',\n",
       "       'Bishop, Mrs. Dickinson H (Helen Walton)',\n",
       "       'Bissette, Miss. Amelia',\n",
       "       'Bjornstrom-Steffansson, Mr. Mauritz Hakan',\n",
       "       'Blackwell, Mr. Stephen Weart', 'Blank, Mr. Henry',\n",
       "       'Bonnell, Miss. Elizabeth', 'Bowerman, Miss. Elsie Edith',\n",
       "       'Brown, Miss. Amelia \"Mildred\"',\n",
       "       'Brown, Mrs. James Joseph (Margaret Tobin)',\n",
       "       'Burns, Miss. Elizabeth Margaret',\n",
       "       'Butt, Major. Archibald Willingham',\n",
       "       'Calderhead, Mr. Edward Pennington',\n",
       "       'Cardeza, Mr. Thomas Drake Martinez', 'Carlsson, Mr. Frans Olof',\n",
       "       'Carter, Master. William Thornton II', 'Carter, Miss. Lucile Polk',\n",
       "       'Carter, Mr. William Ernest',\n",
       "       'Carter, Mrs. William Ernest (Lucile Polk)',\n",
       "       'Cavendish, Mr. Tyrell William', 'Chaffee, Mr. Herbert Fuller',\n",
       "       'Chambers, Mr. Norman Campbell',\n",
       "       'Chambers, Mrs. Norman Campbell (Bertha Griggs)',\n",
       "       'Cherry, Miss. Gladys', 'Colley, Mr. Edward Pomeroy',\n",
       "       'Compton, Miss. Sara Rebecca', 'Crosby, Capt. Edward Gifford',\n",
       "       'Crosby, Miss. Harriet R',\n",
       "       'Cumings, Mrs. John Bradley (Florence Briggs Thayer)',\n",
       "       'Daly, Mr. Peter Denis ', 'Davidson, Mr. Thornton',\n",
       "       'Dick, Mr. Albert Adrian',\n",
       "       'Dick, Mrs. Albert Adrian (Vera Gillespie)',\n",
       "       'Dodge, Master. Washington', 'Douglas, Mr. Walter Donald',\n",
       "       'Duff Gordon, Lady. (Lucille Christiana Sutherland) (\"Mrs Morgan\")',\n",
       "       'Duff Gordon, Sir. Cosmo Edmund (\"Mr Morgan\")',\n",
       "       'Endres, Miss. Caroline Louise', 'Eustis, Miss. Elizabeth Mussey',\n",
       "       'Flynn, Mr. John Irwin (\"Irving\")',\n",
       "       'Foreman, Mr. Benjamin Laventall',\n",
       "       'Fortune, Miss. Alice Elizabeth', 'Fortune, Miss. Mabel Helen',\n",
       "       'Fortune, Mr. Charles Alexander', 'Fortune, Mr. Mark',\n",
       "       'Francatelli, Miss. Laura Mabel',\n",
       "       'Frolicher, Miss. Hedwig Margaritha',\n",
       "       'Frolicher-Stehli, Mr. Maxmillian', 'Futrelle, Mr. Jacques Heath',\n",
       "       'Futrelle, Mrs. Jacques Heath (Lily May Peel)',\n",
       "       'Gee, Mr. Arthur H', 'Giglio, Mr. Victor',\n",
       "       'Goldenberg, Mr. Samuel L', 'Goldschmidt, Mr. George B',\n",
       "       'Graham, Miss. Margaret Edith', 'Graham, Mr. George Edward',\n",
       "       'Graham, Mrs. William Thompson (Edith Junkins)',\n",
       "       'Greenfield, Mr. William Bertram', 'Guggenheim, Mr. Benjamin',\n",
       "       'Harder, Mr. George Achilles', 'Harper, Mr. Henry Sleeper',\n",
       "       'Harper, Mrs. Henry Sleeper (Myna Haxtun)',\n",
       "       'Harris, Mr. Henry Birkhardt',\n",
       "       'Harris, Mrs. Henry Birkhardt (Irene Wallach)',\n",
       "       'Harrison, Mr. William', 'Hassab, Mr. Hammad',\n",
       "       'Hays, Miss. Margaret Bechstein',\n",
       "       'Hays, Mrs. Charles Melville (Clara Jennings Gregg)',\n",
       "       'Hippach, Miss. Jean Gertrude',\n",
       "       'Hippach, Mrs. Louis Albert (Ida Sophia Fischer)',\n",
       "       'Hogeboom, Mrs. John C (Anna Andrews)',\n",
       "       'Hoyt, Mr. Frederick Maxfield',\n",
       "       'Hoyt, Mrs. Frederick Maxfield (Jane Anne Forby)',\n",
       "       'Humblen, Mr. Adolf Mathias Nicolai Olsen',\n",
       "       'Isham, Miss. Ann Elizabeth',\n",
       "       'Jerwan, Mrs. Amin S (Marie Marthe Thuillard)',\n",
       "       'Kent, Mr. Edward Austin', 'Kimball, Mr. Edwin Nelson Jr',\n",
       "       'Leader, Dr. Alice (Farnham)', 'Lemore, Mrs. (Amelia Milley)',\n",
       "       'Lesurer, Mr. Gustave J', 'Levy, Mr. Rene Jacques',\n",
       "       'Lines, Miss. Mary Conover', 'Long, Mr. Milton Clyde',\n",
       "       'Longley, Miss. Gretchen Fiske', 'Lurette, Miss. Elise',\n",
       "       'Mack, Mrs. (Mary)', 'Madill, Miss. Georgette Alexandra',\n",
       "       'Maioni, Miss. Roberta', 'Marvin, Mr. Daniel Warner',\n",
       "       'Mayne, Mlle. Berthe Antonine (\"Mrs de Villiers\")',\n",
       "       'McCarthy, Mr. Timothy J', 'McGough, Mr. James Robert',\n",
       "       'Millet, Mr. Francis Davis', 'Minahan, Dr. William Edward',\n",
       "       'Minahan, Miss. Daisy E', 'Moen, Mr. Sigurd Hansen',\n",
       "       'Molson, Mr. Harry Markland', 'Moor, Master. Meier',\n",
       "       'Moor, Mrs. (Beila)', 'Natsch, Mr. Charles H',\n",
       "       'Navratil, Master. Edmond Roger', 'Navratil, Master. Michel M',\n",
       "       'Navratil, Mr. Michel (\"Louis M Hoffman\")',\n",
       "       'Newell, Miss. Madeleine', 'Newell, Miss. Marjorie',\n",
       "       'Newell, Mr. Arthur Webster', 'Newsom, Miss. Helen Monypeny',\n",
       "       'Nye, Mrs. (Elizabeth Ramell)', 'Ostby, Mr. Engelhart Cornelius',\n",
       "       'Partner, Mr. Austen', 'Pears, Mr. Thomas Clinton',\n",
       "       'Pears, Mrs. Thomas (Edith Wearne)',\n",
       "       'Penasco y Castellana, Mr. Victor de Satode',\n",
       "       'Penasco y Castellana, Mrs. Victor de Satode (Maria Josefa Perez de Soto y Vallejo)',\n",
       "       'Perreault, Miss. Anne', 'Peuchen, Major. Arthur Godfrey',\n",
       "       'Pickard, Mr. Berk (Berk Trembisky)',\n",
       "       'Porter, Mr. Walter Chamberlain',\n",
       "       'Potter, Mrs. Thomas Jr (Lily Alexenia Wilson)',\n",
       "       'Robert, Mrs. Edward Scott (Elisabeth Walton McMillan)',\n",
       "       'Roebling, Mr. Washington Augustus II', 'Ross, Mr. John Hugo',\n",
       "       'Rothes, the Countess. of (Lucy Noel Martha Dyer-Edwards)',\n",
       "       'Ryerson, Miss. Emily Borie',\n",
       "       'Ryerson, Miss. Susan Parker \"Suzette\"', 'Sagesser, Mlle. Emma',\n",
       "       'Sandstrom, Miss. Marguerite Rut',\n",
       "       'Sandstrom, Mrs. Hjalmar (Agnes Charlotta Bengtsson)',\n",
       "       'Shutes, Miss. Elizabeth W', 'Silverthorne, Mr. Spencer Victor',\n",
       "       'Silvey, Mr. William Baird',\n",
       "       'Silvey, Mrs. William Baird (Alice Munger)',\n",
       "       'Simonius-Blumer, Col. Oberst Alfons',\n",
       "       'Sloper, Mr. William Thompson', 'Smith, Mr. James Clinch',\n",
       "       'Soholt, Mr. Peter Andreas Lauritz Andersen',\n",
       "       'Spedden, Mrs. Frederic Oakley (Margaretta Corning Stone)',\n",
       "       'Stahelin-Maeglin, Dr. Max', 'Stead, Mr. William Thomas',\n",
       "       'Stephenson, Mrs. Walter Bertram (Martha Eustis)',\n",
       "       'Strom, Miss. Telma Matilda',\n",
       "       'Strom, Mrs. Wilhelm (Elna Matilda Persson)',\n",
       "       'Sutton, Mr. Frederick',\n",
       "       'Swift, Mrs. Frederick Joel (Margaret Welles Barron)',\n",
       "       'Taussig, Miss. Ruth', 'Taussig, Mr. Emil',\n",
       "       'Taussig, Mrs. Emil (Tillie Mandelbaum)',\n",
       "       'Taylor, Mr. Elmer Zebley', 'Thayer, Mr. John Borland',\n",
       "       'Thayer, Mr. John Borland Jr',\n",
       "       'Thayer, Mrs. John Borland (Marian Longstreth Morris)',\n",
       "       'Troutt, Miss. Edwina Celia \"Winnie\"', 'Van der hoef, Mr. Wyckoff',\n",
       "       'Walker, Mr. William Anderson',\n",
       "       'Warren, Mrs. Frank Manley (Anna Sophia Atkinson)',\n",
       "       'Webber, Miss. Susan', 'White, Mr. Percival Wayland',\n",
       "       'White, Mr. Richard Frasar', 'Wick, Miss. Mary Natalie',\n",
       "       'Widener, Mr. Harry Elkins', 'Young, Miss. Marie Grice'],\n",
       "      dtype=object)"
      ]
     },
     "execution_count": 10,
     "metadata": {},
     "output_type": "execute_result"
    }
   ],
   "source": [
    "np.unique(data[\"Name\"])"
   ]
  },
  {
   "cell_type": "code",
   "execution_count": 11,
   "metadata": {},
   "outputs": [
    {
     "data": {
      "text/plain": [
       "False"
      ]
     },
     "execution_count": 11,
     "metadata": {},
     "output_type": "execute_result"
    }
   ],
   "source": [
    "np.any([data[\"Name\"] == \"?\", data[\"Name\"] == \"\",data[\"Name\"] == \"None\",data[\"Name\"] == \"Null\",data[\"Name\"] == \"NA\",data[\"Name\"] == \"<blank>\"])"
   ]
  },
  {
   "cell_type": "markdown",
   "metadata": {},
   "source": [
    "Sex"
   ]
  },
  {
   "cell_type": "markdown",
   "metadata": {},
   "source": [
    "En la columna de sex se encontró que algunas filas tenian \"?\" y se cambió se cambió el valor a NA."
   ]
  },
  {
   "cell_type": "code",
   "execution_count": 12,
   "metadata": {},
   "outputs": [
    {
     "data": {
      "text/plain": [
       "array(['?', 'female', 'male'], dtype=object)"
      ]
     },
     "execution_count": 12,
     "metadata": {},
     "output_type": "execute_result"
    }
   ],
   "source": [
    "np.unique(data[\"Sex\"])"
   ]
  },
  {
   "cell_type": "code",
   "execution_count": 13,
   "metadata": {},
   "outputs": [
    {
     "data": {
      "text/plain": [
       "51"
      ]
     },
     "execution_count": 13,
     "metadata": {},
     "output_type": "execute_result"
    }
   ],
   "source": [
    "len(data.loc[data[\"Sex\"] == \"?\"])"
   ]
  },
  {
   "cell_type": "code",
   "execution_count": 14,
   "metadata": {},
   "outputs": [],
   "source": [
    "data[\"Sex\"] = data[\"Sex\"].replace(\"?\",np.nan)"
   ]
  },
  {
   "cell_type": "markdown",
   "metadata": {},
   "source": [
    "Age"
   ]
  },
  {
   "cell_type": "markdown",
   "metadata": {},
   "source": [
    "Se encontró que en la columna de age habian 25 NA."
   ]
  },
  {
   "cell_type": "code",
   "execution_count": 15,
   "metadata": {},
   "outputs": [
    {
     "data": {
      "text/plain": [
       "array([ 0.92,  2.  ,  3.  ,  4.  ,  6.  , 11.  , 14.  , 15.  , 16.  ,\n",
       "       17.  , 18.  , 19.  , 21.  , 22.  , 23.  , 24.  , 25.  , 27.  ,\n",
       "       28.  , 29.  , 30.  , 31.  , 32.  , 33.  , 34.  , 35.  , 36.  ,\n",
       "       36.5 , 37.  , 38.  , 39.  , 40.  , 41.  , 42.  , 43.  , 44.  ,\n",
       "       45.  , 46.  , 47.  , 48.  , 49.  , 50.  , 51.  , 52.  , 53.  ,\n",
       "       54.  , 55.  , 56.  , 58.  , 60.  , 61.  , 62.  , 63.  , 64.  ,\n",
       "       65.  , 70.  , 71.  , 80.  ,   nan,   nan,   nan,   nan,   nan,\n",
       "         nan,   nan,   nan,   nan,   nan,   nan,   nan,   nan,   nan,\n",
       "         nan,   nan,   nan,   nan,   nan,   nan,   nan,   nan,   nan,\n",
       "         nan,   nan])"
      ]
     },
     "execution_count": 15,
     "metadata": {},
     "output_type": "execute_result"
    }
   ],
   "source": [
    "np.unique(data[\"Age\"])"
   ]
  },
  {
   "cell_type": "code",
   "execution_count": 16,
   "metadata": {},
   "outputs": [
    {
     "data": {
      "text/plain": [
       "25"
      ]
     },
     "execution_count": 16,
     "metadata": {},
     "output_type": "execute_result"
    }
   ],
   "source": [
    "data[\"Age\"].isna().sum()"
   ]
  },
  {
   "cell_type": "markdown",
   "metadata": {},
   "source": [
    "SibSp"
   ]
  },
  {
   "cell_type": "markdown",
   "metadata": {},
   "source": [
    "En la columna de SibSp se encontraron 3 NA."
   ]
  },
  {
   "cell_type": "code",
   "execution_count": 17,
   "metadata": {},
   "outputs": [
    {
     "data": {
      "text/plain": [
       "array([ 0.,  1.,  2.,  3., nan, nan, nan])"
      ]
     },
     "execution_count": 17,
     "metadata": {},
     "output_type": "execute_result"
    }
   ],
   "source": [
    "np.unique(data[\"SibSp\"])"
   ]
  },
  {
   "cell_type": "code",
   "execution_count": 18,
   "metadata": {},
   "outputs": [
    {
     "data": {
      "text/plain": [
       "3"
      ]
     },
     "execution_count": 18,
     "metadata": {},
     "output_type": "execute_result"
    }
   ],
   "source": [
    "data[\"SibSp\"].isna().sum()"
   ]
  },
  {
   "cell_type": "markdown",
   "metadata": {},
   "source": [
    "Parch"
   ]
  },
  {
   "cell_type": "markdown",
   "metadata": {},
   "source": [
    "En la columna de Parch se encontraron 12 NA. "
   ]
  },
  {
   "cell_type": "code",
   "execution_count": 19,
   "metadata": {},
   "outputs": [
    {
     "data": {
      "text/plain": [
       "array([ 0.,  1.,  2.,  4., nan, nan, nan, nan, nan, nan, nan, nan, nan,\n",
       "       nan, nan, nan])"
      ]
     },
     "execution_count": 19,
     "metadata": {},
     "output_type": "execute_result"
    }
   ],
   "source": [
    "np.unique(data[\"Parch\"])"
   ]
  },
  {
   "cell_type": "code",
   "execution_count": 20,
   "metadata": {},
   "outputs": [
    {
     "data": {
      "text/plain": [
       "12"
      ]
     },
     "execution_count": 20,
     "metadata": {},
     "output_type": "execute_result"
    }
   ],
   "source": [
    "data[\"Parch\"].isna().sum()"
   ]
  },
  {
   "cell_type": "markdown",
   "metadata": {},
   "source": [
    "Ticket"
   ]
  },
  {
   "cell_type": "code",
   "execution_count": 21,
   "metadata": {},
   "outputs": [
    {
     "data": {
      "text/plain": [
       "array(['110152', '110413', '110465', '110564', '110813', '111240',\n",
       "       '111320', '111361', '111369', '112050', '112053', '112059',\n",
       "       '112277', '113043', '113050', '113051', '113055', '113501',\n",
       "       '113503', '113505', '113509', '113514', '113760', '113773',\n",
       "       '113776', '113781', '113783', '113784', '113786', '113787',\n",
       "       '113788', '113803', '113806', '11751', '11752', '11753', '11755',\n",
       "       '11765', '11767', '11769', '11771', '11813', '11967', '12749',\n",
       "       '13049', '13213', '13214', '13502', '13507', '13509', '13567',\n",
       "       '13568', '16966', '17421', '17453', '17463', '17465', '17466',\n",
       "       '17474', '17764', '19877', '19928', '19943', '19950', '19952',\n",
       "       '19996', '230080', '230136', '24160', '248698', '248733', '27042',\n",
       "       '27267', '28551', '33638', '34218', '347054', '348121', '348123',\n",
       "       '348124', '35273', '35281', '36928', '36947', '36963', '36967',\n",
       "       '36973', '392096', '5727', '695', 'C.A. 29395', 'C.A. 34260',\n",
       "       'F.C. 12750', 'PC 17473', 'PC 17474', 'PC 17475', 'PC 17476',\n",
       "       'PC 17477', 'PC 17482', 'PC 17485', 'PC 17558', 'PC 17569',\n",
       "       'PC 17572', 'PC 17582', 'PC 17590', 'PC 17592', 'PC 17593',\n",
       "       'PC 17595', 'PC 17596', 'PC 17599', 'PC 17608', 'PC 17610',\n",
       "       'PC 17754', 'PC 17755', 'PC 17756', 'PC 17757', 'PC 17758',\n",
       "       'PC 17759', 'PC 17760', 'PC 17761', 'PP 9549', 'S.O./P.P. 3',\n",
       "       'SC/AH Basle 541', 'SC/Paris 2163', 'SOTON/O.Q. 392078',\n",
       "       'W.E.P. 5734', 'WE/P 5735'], dtype=object)"
      ]
     },
     "execution_count": 21,
     "metadata": {},
     "output_type": "execute_result"
    }
   ],
   "source": [
    "np.unique(data[\"Ticket\"])"
   ]
  },
  {
   "cell_type": "markdown",
   "metadata": {},
   "source": [
    "Fare"
   ]
  },
  {
   "cell_type": "markdown",
   "metadata": {},
   "source": [
    "En la columna de Fare se encontraron 2 valores con 0, se tomaron como missing data porque no se encontró quien puedo haber entrado gratis. Además, se encontraron 8 NA."
   ]
  },
  {
   "cell_type": "code",
   "execution_count": 22,
   "metadata": {},
   "outputs": [
    {
     "data": {
      "text/plain": [
       "array([  0.    ,   5.    ,   7.65  ,   8.05  ,  10.4625,  10.5   ,\n",
       "        12.475 ,  12.875 ,  13.    ,  13.7917,  16.7   ,  25.5875,\n",
       "        25.9292,  26.    ,  26.2833,  26.2875,  26.3875,  26.55  ,\n",
       "        27.7208,  27.75  ,  28.5   ,  28.7125,  29.7   ,  30.    ,\n",
       "        30.5   ,  30.6958,  31.    ,  32.3208,  33.5   ,  34.0208,\n",
       "        34.6542,  35.5   ,  38.5   ,  39.    ,  39.4   ,  39.6   ,\n",
       "        40.125 ,  49.5   ,  49.5042,  50.4958,  51.4792,  51.8625,\n",
       "        52.    ,  52.5542,  53.1   ,  55.    ,  55.4417,  55.9   ,\n",
       "        56.9292,  57.    ,  57.9792,  61.175 ,  61.9792,  63.3583,\n",
       "        66.6   ,  69.3   ,  71.    ,  71.2833,  75.25  ,  76.7292,\n",
       "        77.2875,  77.9583,  78.2667,  78.85  ,  79.2   ,  79.65  ,\n",
       "        81.8583,  83.1583,  83.475 ,  86.5   ,  89.1042,  90.    ,\n",
       "        91.0792,  93.5   , 106.425 , 108.9   , 110.8833, 113.275 ,\n",
       "       120.    , 134.5   , 135.6333, 146.5208, 151.55  , 153.4625,\n",
       "       164.8667, 211.3375, 211.5   , 227.525 , 247.5208, 262.375 ,\n",
       "       263.    , 512.3292,      nan,      nan,      nan,      nan,\n",
       "            nan,      nan,      nan,      nan])"
      ]
     },
     "execution_count": 22,
     "metadata": {},
     "output_type": "execute_result"
    }
   ],
   "source": [
    "np.unique(data[\"Fare\"])"
   ]
  },
  {
   "cell_type": "code",
   "execution_count": 23,
   "metadata": {},
   "outputs": [
    {
     "data": {
      "text/plain": [
       "2"
      ]
     },
     "execution_count": 23,
     "metadata": {},
     "output_type": "execute_result"
    }
   ],
   "source": [
    "len(data.loc[data[\"Fare\"] == 0])"
   ]
  },
  {
   "cell_type": "code",
   "execution_count": 24,
   "metadata": {},
   "outputs": [],
   "source": [
    "data[\"Fare\"] = data[\"Fare\"].replace(0,np.nan)"
   ]
  },
  {
   "cell_type": "code",
   "execution_count": 25,
   "metadata": {},
   "outputs": [
    {
     "data": {
      "text/plain": [
       "10"
      ]
     },
     "execution_count": 25,
     "metadata": {},
     "output_type": "execute_result"
    }
   ],
   "source": [
    "data[\"Fare\"].isna().sum()"
   ]
  },
  {
   "cell_type": "markdown",
   "metadata": {},
   "source": [
    "Cabin"
   ]
  },
  {
   "cell_type": "code",
   "execution_count": 26,
   "metadata": {},
   "outputs": [
    {
     "data": {
      "text/plain": [
       "array(['A10', 'A16', 'A20', 'A23', 'A24', 'A26', 'A31', 'A34', 'A36',\n",
       "       'A5', 'A6', 'A7', 'B101', 'B18', 'B19', 'B20', 'B22', 'B3', 'B30',\n",
       "       'B35', 'B37', 'B38', 'B39', 'B4', 'B41', 'B42', 'B49', 'B5', 'B50',\n",
       "       'B51 B53 B55', 'B57 B59 B63 B66', 'B58 B60', 'B69', 'B71', 'B73',\n",
       "       'B77', 'B79', 'B80', 'B82 B84', 'B86', 'B94', 'B96 B98', 'C101',\n",
       "       'C103', 'C104', 'C110', 'C111', 'C118', 'C123', 'C124', 'C125',\n",
       "       'C126', 'C148', 'C2', 'C22 C26', 'C23 C25 C27', 'C30', 'C32',\n",
       "       'C45', 'C46', 'C49', 'C50', 'C52', 'C54', 'C62 C64', 'C65', 'C68',\n",
       "       'C7', 'C70', 'C78', 'C82', 'C83', 'C85', 'C86', 'C87', 'C90',\n",
       "       'C91', 'C92', 'C93', 'C99', 'D', 'D10 D12', 'D11', 'D15', 'D17',\n",
       "       'D19', 'D20', 'D26', 'D28', 'D30', 'D33', 'D35', 'D36', 'D37',\n",
       "       'D46', 'D47', 'D48', 'D49', 'D50', 'D56', 'D6', 'D7', 'D9', 'E10',\n",
       "       'E101', 'E12', 'E121', 'E17', 'E24', 'E25', 'E31', 'E33', 'E34',\n",
       "       'E36', 'E38', 'E40', 'E44', 'E46', 'E49', 'E50', 'E58', 'E63',\n",
       "       'E67', 'E68', 'E77', 'E8', 'F G63', 'F G73', 'F2', 'F33', 'F4',\n",
       "       'G6', 'T'], dtype=object)"
      ]
     },
     "execution_count": 26,
     "metadata": {},
     "output_type": "execute_result"
    }
   ],
   "source": [
    "np.unique(data[\"Cabin\"])"
   ]
  },
  {
   "cell_type": "markdown",
   "metadata": {},
   "source": [
    "Embarked"
   ]
  },
  {
   "cell_type": "markdown",
   "metadata": {},
   "source": [
    "En la columna de Embarked se encontraron 12 NA."
   ]
  },
  {
   "cell_type": "code",
   "execution_count": 27,
   "metadata": {},
   "outputs": [
    {
     "data": {
      "text/plain": [
       "array(['C', 'Q', 'S', 'nan'], dtype=object)"
      ]
     },
     "execution_count": 27,
     "metadata": {},
     "output_type": "execute_result"
    }
   ],
   "source": [
    "np.unique(data[\"Embarked\"].astype(str))"
   ]
  },
  {
   "cell_type": "code",
   "execution_count": 28,
   "metadata": {},
   "outputs": [
    {
     "data": {
      "text/plain": [
       "12"
      ]
     },
     "execution_count": 28,
     "metadata": {},
     "output_type": "execute_result"
    }
   ],
   "source": [
    "data[\"Embarked\"].isna().sum()"
   ]
  },
  {
   "cell_type": "markdown",
   "metadata": {},
   "source": [
    "Conclusion"
   ]
  },
  {
   "cell_type": "markdown",
   "metadata": {},
   "source": [
    "Cantidad de missing data por columna:"
   ]
  },
  {
   "cell_type": "code",
   "execution_count": 29,
   "metadata": {},
   "outputs": [
    {
     "data": {
      "text/plain": [
       "PassengerId     0\n",
       "Survived        0\n",
       "Pclass          0\n",
       "Name            0\n",
       "Sex            51\n",
       "Age            25\n",
       "SibSp           3\n",
       "Parch          12\n",
       "Ticket          0\n",
       "Fare           10\n",
       "Cabin           0\n",
       "Embarked       12\n",
       "dtype: int64"
      ]
     },
     "execution_count": 29,
     "metadata": {},
     "output_type": "execute_result"
    }
   ],
   "source": [
    "data.isna().sum()"
   ]
  },
  {
   "cell_type": "markdown",
   "metadata": {},
   "source": [
    "### 2. Para cada columna especificar qué tipo de modelo se utilizará (solo el nombre y el porqué) y qué valores se le darán a todos los missing values. (Ej. Imputación sectorizada por la moda, bins, y cualquier otro método visto anteriormente). "
   ]
  },
  {
   "cell_type": "markdown",
   "metadata": {},
   "source": [
    "- Sex: El modelo que se utilizará para sustituir los missing values es la moda, debido a que es una variable categorica.\n",
    "- Age: Para sustituir los missing values se utilzará una regresión lineal simple, debido a que al tomar en cuenta las demás variables se puede llegar a un resultado más preciso en comparación con los demas metodos. \n",
    "- SibSp: No hay forma de ser preciso en la cantidad de hermanos o conyuges a bordo, entonces se utilizará el modelo de filling values a partir de la data historica que ya se tiene. \n",
    "- Parch: No hay forma de ser preciso en la cantidad de padres o hijos a bordo, pero se podria utilizar una imputacion selectorizada por la mediana y la cetegoria que podria ayudar a predecir es la cabina, por el numero de habitaciones que podria tener esa cabina. \n",
    "- Fare: El modelo que se usará para sustituir los missing values es una imputacion selectorizada por el promedio y la categoriza que se usará es el tipo de ticket debido a que el ticket indica en que cabina se encontraba el pasajero y el precio cambia por el tipo de cabina.\n",
    "- Embarked: El modelo que se utilizará para sustituir los missing values es la moda, debido a que es una variable categorica."
   ]
  },
  {
   "cell_type": "markdown",
   "metadata": {},
   "source": [
    "### 3.\tReporte de qué filas están completas "
   ]
  },
  {
   "cell_type": "markdown",
   "metadata": {},
   "source": [
    "Reporte de missing values por columna"
   ]
  },
  {
   "cell_type": "code",
   "execution_count": 30,
   "metadata": {},
   "outputs": [
    {
     "data": {
      "text/plain": [
       "PassengerId     0.00\n",
       "Survived        0.00\n",
       "Pclass          0.00\n",
       "Name            0.00\n",
       "Sex            27.87\n",
       "Age            13.66\n",
       "SibSp           1.64\n",
       "Parch           6.56\n",
       "Ticket          0.00\n",
       "Fare            5.46\n",
       "Cabin           0.00\n",
       "Embarked        6.56\n",
       "dtype: float64"
      ]
     },
     "execution_count": 30,
     "metadata": {},
     "output_type": "execute_result"
    }
   ],
   "source": [
    "round(data.isna().sum()/len(data),4)*100"
   ]
  },
  {
   "cell_type": "markdown",
   "metadata": {},
   "source": [
    "Debido a que ninguna columna sobrepasa el 70% de missing values se utilizaran todas las columnas para hacer el análisis. "
   ]
  },
  {
   "cell_type": "markdown",
   "metadata": {},
   "source": [
    "#### Listwise"
   ]
  },
  {
   "cell_type": "markdown",
   "metadata": {},
   "source": [
    "Cantidad de filas antes del listwise"
   ]
  },
  {
   "cell_type": "code",
   "execution_count": 31,
   "metadata": {},
   "outputs": [
    {
     "data": {
      "text/plain": [
       "(183, 12)"
      ]
     },
     "execution_count": 31,
     "metadata": {},
     "output_type": "execute_result"
    }
   ],
   "source": [
    "data.shape"
   ]
  },
  {
   "cell_type": "markdown",
   "metadata": {},
   "source": [
    "Cantidad de filas despues del listwise"
   ]
  },
  {
   "cell_type": "code",
   "execution_count": 32,
   "metadata": {},
   "outputs": [
    {
     "data": {
      "text/plain": [
       "(99, 12)"
      ]
     },
     "execution_count": 32,
     "metadata": {},
     "output_type": "execute_result"
    }
   ],
   "source": [
    "data.dropna().shape"
   ]
  },
  {
   "cell_type": "markdown",
   "metadata": {},
   "source": [
    "Conclusión: \n",
    "\n",
    "Se utilizó el metodo de listwise eliminando todas las filas que tenian al menos un missing value y la cantidad de filas que estan completas son 99."
   ]
  },
  {
   "cell_type": "markdown",
   "metadata": {},
   "source": [
    "### 4.\tUtilizar los siguientes métodos para cada columna que contiene missing values: "
   ]
  },
  {
   "cell_type": "code",
   "execution_count": 33,
   "metadata": {},
   "outputs": [],
   "source": [
    "#Libreria\n",
    "import copy\n",
    "#Copias de el data frame original\n",
    "data_copia = copy.deepcopy(data)\n"
   ]
  },
  {
   "cell_type": "markdown",
   "metadata": {},
   "source": [
    "####    a.\tImputación general (media, moda y mediana) "
   ]
  },
  {
   "cell_type": "code",
   "execution_count": 34,
   "metadata": {},
   "outputs": [],
   "source": [
    "from sklearn.impute import SimpleImputer"
   ]
  },
  {
   "cell_type": "code",
   "execution_count": 35,
   "metadata": {},
   "outputs": [],
   "source": [
    "imp_mean = SimpleImputer(missing_values=np.nan, strategy='mean')\n",
    "imp_median = SimpleImputer(missing_values=np.nan, strategy='median')\n",
    "imp_mode = SimpleImputer(missing_values=np.nan, strategy='most_frequent')"
   ]
  },
  {
   "cell_type": "markdown",
   "metadata": {},
   "source": [
    "Mean: En todas las columnas numericas."
   ]
  },
  {
   "cell_type": "code",
   "execution_count": 36,
   "metadata": {},
   "outputs": [],
   "source": [
    "data_copia[[\"Age_mean\",\"SibSp_mean\",\"Parch_mean\",\"Fare_mean\"]] = imp_mean.fit_transform(data_copia[[\"Age\",\"SibSp\",\"Parch\",\"Fare\"]])"
   ]
  },
  {
   "cell_type": "markdown",
   "metadata": {},
   "source": [
    "Median: En todas las columnas numericas"
   ]
  },
  {
   "cell_type": "code",
   "execution_count": 37,
   "metadata": {},
   "outputs": [],
   "source": [
    "data_copia[[\"Age_median\",\"SibSp_median\",\"Parch_median\",\"Fare_median\"]] = imp_median.fit_transform(data_copia[[\"Age\",\"SibSp\",\"Parch\",\"Fare\"]])"
   ]
  },
  {
   "cell_type": "markdown",
   "metadata": {},
   "source": [
    "Mode: En todas las columnas numericas y categoricas."
   ]
  },
  {
   "cell_type": "code",
   "execution_count": 38,
   "metadata": {},
   "outputs": [],
   "source": [
    "data_copia[[\"Sex_mode\",\"Age_mode\",\"SibSp_mode\",\"Parch_mode\",\"Fare_mode\",\"Embarked_mode\"]] = imp_mode.fit_transform(data_copia[[\"Sex\",\"Age\",\"SibSp\",\"Parch\",\"Fare\",\"Embarked\"]])\n",
    "data_copia[\"Age_mode\"] = data_copia[\"Age_mode\"].astype(float)\n",
    "data_copia[\"SibSp_mode\"] = data_copia[\"SibSp_mode\"].astype(float)\n",
    "data_copia[\"Parch_mode\"] = data_copia[\"Parch_mode\"].astype(float)\n",
    "data_copia[\"Fare_mode\"] = data_copia[\"Fare_mode\"].astype(float)"
   ]
  },
  {
   "cell_type": "code",
   "execution_count": 39,
   "metadata": {},
   "outputs": [
    {
     "data": {
      "text/html": [
       "<div>\n",
       "<style scoped>\n",
       "    .dataframe tbody tr th:only-of-type {\n",
       "        vertical-align: middle;\n",
       "    }\n",
       "\n",
       "    .dataframe tbody tr th {\n",
       "        vertical-align: top;\n",
       "    }\n",
       "\n",
       "    .dataframe thead th {\n",
       "        text-align: right;\n",
       "    }\n",
       "</style>\n",
       "<table border=\"1\" class=\"dataframe\">\n",
       "  <thead>\n",
       "    <tr style=\"text-align: right;\">\n",
       "      <th></th>\n",
       "      <th>Age_mean</th>\n",
       "      <th>SibSp_mean</th>\n",
       "      <th>Parch_mean</th>\n",
       "      <th>Fare_mean</th>\n",
       "      <th>Age_median</th>\n",
       "      <th>SibSp_median</th>\n",
       "      <th>Parch_median</th>\n",
       "      <th>Fare_median</th>\n",
       "      <th>Sex_mode</th>\n",
       "      <th>Age_mode</th>\n",
       "      <th>SibSp_mode</th>\n",
       "      <th>Parch_mode</th>\n",
       "      <th>Fare_mode</th>\n",
       "      <th>Embarked_mode</th>\n",
       "    </tr>\n",
       "  </thead>\n",
       "  <tbody>\n",
       "    <tr>\n",
       "      <th>0</th>\n",
       "      <td>38.000000</td>\n",
       "      <td>1.000000</td>\n",
       "      <td>0.000000</td>\n",
       "      <td>71.283300</td>\n",
       "      <td>38.0</td>\n",
       "      <td>1.0</td>\n",
       "      <td>0.0</td>\n",
       "      <td>71.2833</td>\n",
       "      <td>male</td>\n",
       "      <td>38.0</td>\n",
       "      <td>1.0</td>\n",
       "      <td>0.0</td>\n",
       "      <td>71.2833</td>\n",
       "      <td>C</td>\n",
       "    </tr>\n",
       "    <tr>\n",
       "      <th>1</th>\n",
       "      <td>35.000000</td>\n",
       "      <td>1.000000</td>\n",
       "      <td>0.000000</td>\n",
       "      <td>53.100000</td>\n",
       "      <td>35.0</td>\n",
       "      <td>1.0</td>\n",
       "      <td>0.0</td>\n",
       "      <td>53.1000</td>\n",
       "      <td>female</td>\n",
       "      <td>35.0</td>\n",
       "      <td>1.0</td>\n",
       "      <td>0.0</td>\n",
       "      <td>53.1000</td>\n",
       "      <td>S</td>\n",
       "    </tr>\n",
       "    <tr>\n",
       "      <th>2</th>\n",
       "      <td>54.000000</td>\n",
       "      <td>0.000000</td>\n",
       "      <td>0.000000</td>\n",
       "      <td>51.862500</td>\n",
       "      <td>54.0</td>\n",
       "      <td>0.0</td>\n",
       "      <td>0.0</td>\n",
       "      <td>51.8625</td>\n",
       "      <td>male</td>\n",
       "      <td>54.0</td>\n",
       "      <td>0.0</td>\n",
       "      <td>0.0</td>\n",
       "      <td>51.8625</td>\n",
       "      <td>S</td>\n",
       "    </tr>\n",
       "    <tr>\n",
       "      <th>3</th>\n",
       "      <td>35.692532</td>\n",
       "      <td>1.000000</td>\n",
       "      <td>0.461988</td>\n",
       "      <td>16.700000</td>\n",
       "      <td>35.5</td>\n",
       "      <td>1.0</td>\n",
       "      <td>0.0</td>\n",
       "      <td>16.7000</td>\n",
       "      <td>female</td>\n",
       "      <td>24.0</td>\n",
       "      <td>1.0</td>\n",
       "      <td>0.0</td>\n",
       "      <td>16.7000</td>\n",
       "      <td>S</td>\n",
       "    </tr>\n",
       "    <tr>\n",
       "      <th>4</th>\n",
       "      <td>58.000000</td>\n",
       "      <td>0.461111</td>\n",
       "      <td>0.000000</td>\n",
       "      <td>26.550000</td>\n",
       "      <td>58.0</td>\n",
       "      <td>0.0</td>\n",
       "      <td>0.0</td>\n",
       "      <td>26.5500</td>\n",
       "      <td>female</td>\n",
       "      <td>58.0</td>\n",
       "      <td>0.0</td>\n",
       "      <td>0.0</td>\n",
       "      <td>26.5500</td>\n",
       "      <td>S</td>\n",
       "    </tr>\n",
       "    <tr>\n",
       "      <th>...</th>\n",
       "      <td>...</td>\n",
       "      <td>...</td>\n",
       "      <td>...</td>\n",
       "      <td>...</td>\n",
       "      <td>...</td>\n",
       "      <td>...</td>\n",
       "      <td>...</td>\n",
       "      <td>...</td>\n",
       "      <td>...</td>\n",
       "      <td>...</td>\n",
       "      <td>...</td>\n",
       "      <td>...</td>\n",
       "      <td>...</td>\n",
       "      <td>...</td>\n",
       "    </tr>\n",
       "    <tr>\n",
       "      <th>178</th>\n",
       "      <td>47.000000</td>\n",
       "      <td>1.000000</td>\n",
       "      <td>1.000000</td>\n",
       "      <td>79.872014</td>\n",
       "      <td>47.0</td>\n",
       "      <td>1.0</td>\n",
       "      <td>1.0</td>\n",
       "      <td>57.0000</td>\n",
       "      <td>female</td>\n",
       "      <td>47.0</td>\n",
       "      <td>1.0</td>\n",
       "      <td>1.0</td>\n",
       "      <td>26.5500</td>\n",
       "      <td>S</td>\n",
       "    </tr>\n",
       "    <tr>\n",
       "      <th>179</th>\n",
       "      <td>35.692532</td>\n",
       "      <td>0.000000</td>\n",
       "      <td>0.000000</td>\n",
       "      <td>5.000000</td>\n",
       "      <td>35.5</td>\n",
       "      <td>0.0</td>\n",
       "      <td>0.0</td>\n",
       "      <td>5.0000</td>\n",
       "      <td>male</td>\n",
       "      <td>24.0</td>\n",
       "      <td>0.0</td>\n",
       "      <td>0.0</td>\n",
       "      <td>5.0000</td>\n",
       "      <td>S</td>\n",
       "    </tr>\n",
       "    <tr>\n",
       "      <th>180</th>\n",
       "      <td>56.000000</td>\n",
       "      <td>0.000000</td>\n",
       "      <td>0.461988</td>\n",
       "      <td>83.158300</td>\n",
       "      <td>56.0</td>\n",
       "      <td>0.0</td>\n",
       "      <td>0.0</td>\n",
       "      <td>83.1583</td>\n",
       "      <td>female</td>\n",
       "      <td>56.0</td>\n",
       "      <td>0.0</td>\n",
       "      <td>0.0</td>\n",
       "      <td>83.1583</td>\n",
       "      <td>S</td>\n",
       "    </tr>\n",
       "    <tr>\n",
       "      <th>181</th>\n",
       "      <td>19.000000</td>\n",
       "      <td>0.000000</td>\n",
       "      <td>0.000000</td>\n",
       "      <td>30.000000</td>\n",
       "      <td>19.0</td>\n",
       "      <td>0.0</td>\n",
       "      <td>0.0</td>\n",
       "      <td>30.0000</td>\n",
       "      <td>male</td>\n",
       "      <td>19.0</td>\n",
       "      <td>0.0</td>\n",
       "      <td>0.0</td>\n",
       "      <td>30.0000</td>\n",
       "      <td>S</td>\n",
       "    </tr>\n",
       "    <tr>\n",
       "      <th>182</th>\n",
       "      <td>35.692532</td>\n",
       "      <td>0.000000</td>\n",
       "      <td>0.000000</td>\n",
       "      <td>30.000000</td>\n",
       "      <td>35.5</td>\n",
       "      <td>0.0</td>\n",
       "      <td>0.0</td>\n",
       "      <td>30.0000</td>\n",
       "      <td>male</td>\n",
       "      <td>24.0</td>\n",
       "      <td>0.0</td>\n",
       "      <td>0.0</td>\n",
       "      <td>30.0000</td>\n",
       "      <td>C</td>\n",
       "    </tr>\n",
       "  </tbody>\n",
       "</table>\n",
       "<p>183 rows × 14 columns</p>\n",
       "</div>"
      ],
      "text/plain": [
       "      Age_mean  SibSp_mean  Parch_mean  Fare_mean  Age_median  SibSp_median  \\\n",
       "0    38.000000    1.000000    0.000000  71.283300        38.0           1.0   \n",
       "1    35.000000    1.000000    0.000000  53.100000        35.0           1.0   \n",
       "2    54.000000    0.000000    0.000000  51.862500        54.0           0.0   \n",
       "3    35.692532    1.000000    0.461988  16.700000        35.5           1.0   \n",
       "4    58.000000    0.461111    0.000000  26.550000        58.0           0.0   \n",
       "..         ...         ...         ...        ...         ...           ...   \n",
       "178  47.000000    1.000000    1.000000  79.872014        47.0           1.0   \n",
       "179  35.692532    0.000000    0.000000   5.000000        35.5           0.0   \n",
       "180  56.000000    0.000000    0.461988  83.158300        56.0           0.0   \n",
       "181  19.000000    0.000000    0.000000  30.000000        19.0           0.0   \n",
       "182  35.692532    0.000000    0.000000  30.000000        35.5           0.0   \n",
       "\n",
       "     Parch_median  Fare_median Sex_mode  Age_mode  SibSp_mode  Parch_mode  \\\n",
       "0             0.0      71.2833     male      38.0         1.0         0.0   \n",
       "1             0.0      53.1000   female      35.0         1.0         0.0   \n",
       "2             0.0      51.8625     male      54.0         0.0         0.0   \n",
       "3             0.0      16.7000   female      24.0         1.0         0.0   \n",
       "4             0.0      26.5500   female      58.0         0.0         0.0   \n",
       "..            ...          ...      ...       ...         ...         ...   \n",
       "178           1.0      57.0000   female      47.0         1.0         1.0   \n",
       "179           0.0       5.0000     male      24.0         0.0         0.0   \n",
       "180           0.0      83.1583   female      56.0         0.0         0.0   \n",
       "181           0.0      30.0000     male      19.0         0.0         0.0   \n",
       "182           0.0      30.0000     male      24.0         0.0         0.0   \n",
       "\n",
       "     Fare_mode Embarked_mode  \n",
       "0      71.2833             C  \n",
       "1      53.1000             S  \n",
       "2      51.8625             S  \n",
       "3      16.7000             S  \n",
       "4      26.5500             S  \n",
       "..         ...           ...  \n",
       "178    26.5500             S  \n",
       "179     5.0000             S  \n",
       "180    83.1583             S  \n",
       "181    30.0000             S  \n",
       "182    30.0000             C  \n",
       "\n",
       "[183 rows x 14 columns]"
      ]
     },
     "execution_count": 39,
     "metadata": {},
     "output_type": "execute_result"
    }
   ],
   "source": [
    "data_copia.iloc[:,12:26]"
   ]
  },
  {
   "cell_type": "markdown",
   "metadata": {},
   "source": [
    "#### b.\tModelo de regresión lineal"
   ]
  },
  {
   "cell_type": "code",
   "execution_count": 40,
   "metadata": {},
   "outputs": [],
   "source": [
    "#Libreria \n",
    "from sklearn.linear_model import LinearRegression\n",
    "import pandas as pd\n",
    "import numpy as np"
   ]
  },
  {
   "cell_type": "code",
   "execution_count": 41,
   "metadata": {},
   "outputs": [],
   "source": [
    "#Se crea una copia \n",
    "data_regresion = copy.deepcopy(data)\n",
    "#data_regresion = data_regresion.dropna()"
   ]
  },
  {
   "cell_type": "code",
   "execution_count": 42,
   "metadata": {},
   "outputs": [],
   "source": [
    "def regresion(data_linear):\n",
    "    data_linear = data_linear.dropna()\n",
    "    y = data_linear.iloc[:,0:1]\n",
    "    x = data_linear.iloc[:,1:]\n",
    "    lm = LinearRegression()\n",
    "    lm = lm.fit(x, y)\n",
    "    return lm"
   ]
  },
  {
   "cell_type": "code",
   "execution_count": 43,
   "metadata": {},
   "outputs": [
    {
     "data": {
      "text/plain": [
       "0      34.421133\n",
       "1      34.420642\n",
       "2      42.903544\n",
       "3      13.579372\n",
       "4      34.418676\n",
       "         ...    \n",
       "178    34.207405\n",
       "179    42.690799\n",
       "180    34.205440\n",
       "181    34.203474\n",
       "182    34.202983\n",
       "Name: Age_lm, Length: 183, dtype: float64"
      ]
     },
     "execution_count": 43,
     "metadata": {},
     "output_type": "execute_result"
    }
   ],
   "source": [
    "# Age\n",
    "lm_age = regresion(data_regresion[[\"Age\",\"PassengerId\",\"Survived\",\"Pclass\"]])\n",
    "data_regresion[\"Age_lm\"] = lm_age.predict(data_regresion[[\"PassengerId\",\"Survived\",\"Pclass\"]])\n",
    "data_regresion[\"Age_lm\"]"
   ]
  },
  {
   "cell_type": "code",
   "execution_count": 44,
   "metadata": {},
   "outputs": [
    {
     "data": {
      "text/plain": [
       "0      0.686605\n",
       "1      0.685985\n",
       "2      0.510425\n",
       "3      0.411931\n",
       "4      0.683501\n",
       "         ...   \n",
       "178    0.416567\n",
       "179    0.241628\n",
       "180    0.414083\n",
       "181    0.411600\n",
       "182    0.410980\n",
       "Name: SibSp_lm, Length: 183, dtype: float64"
      ]
     },
     "execution_count": 44,
     "metadata": {},
     "output_type": "execute_result"
    }
   ],
   "source": [
    "# SibSp\n",
    "lm_SibSp = regresion(data_regresion[[\"SibSp\",\"PassengerId\",\"Survived\",\"Pclass\"]])\n",
    "data_regresion[\"SibSp_lm\"] = lm_SibSp.predict(data_regresion[[\"PassengerId\",\"Survived\",\"Pclass\"]])\n",
    "data_regresion[\"SibSp_lm\"]"
   ]
  },
  {
   "cell_type": "code",
   "execution_count": 45,
   "metadata": {},
   "outputs": [
    {
     "data": {
      "text/plain": [
       "0      0.540551\n",
       "1      0.540175\n",
       "2      0.527613\n",
       "3      0.652815\n",
       "4      0.538673\n",
       "         ...   \n",
       "178    0.377216\n",
       "179    0.365029\n",
       "180    0.375714\n",
       "181    0.374212\n",
       "182    0.373836\n",
       "Name: Parch_lm, Length: 183, dtype: float64"
      ]
     },
     "execution_count": 45,
     "metadata": {},
     "output_type": "execute_result"
    }
   ],
   "source": [
    "# Parch\n",
    "lm_parch = regresion(data_regresion[[\"Parch\",\"PassengerId\",\"Survived\",\"Pclass\"]])\n",
    "data_regresion[\"Parch_lm\"] = lm_parch.predict(data_regresion[[\"PassengerId\",\"Survived\",\"Pclass\"]])\n",
    "data_regresion[\"Parch_lm\"]"
   ]
  },
  {
   "cell_type": "code",
   "execution_count": 46,
   "metadata": {},
   "outputs": [
    {
     "data": {
      "text/plain": [
       "0      96.031961\n",
       "1      96.024869\n",
       "2      78.174816\n",
       "3       0.899000\n",
       "4      95.996502\n",
       "         ...    \n",
       "178    92.947005\n",
       "179    75.104044\n",
       "180    92.918638\n",
       "181    92.890270\n",
       "182    92.883179\n",
       "Name: Fare_lm, Length: 183, dtype: float64"
      ]
     },
     "execution_count": 46,
     "metadata": {},
     "output_type": "execute_result"
    }
   ],
   "source": [
    "# Fare\n",
    "lm_fare = regresion(data_regresion[[\"Fare\",\"PassengerId\",\"Survived\",\"Pclass\"]])\n",
    "data_regresion[\"Fare_lm\"] = lm_fare.predict(data_regresion[[\"PassengerId\",\"Survived\",\"Pclass\"]])\n",
    "data_regresion[\"Fare_lm\"]"
   ]
  },
  {
   "cell_type": "markdown",
   "metadata": {},
   "source": [
    "#### c.\tOutliers: Uno de los dos métodos vistos en clase (Standard deviation approach o Percentile approach)"
   ]
  },
  {
   "cell_type": "code",
   "execution_count": 47,
   "metadata": {},
   "outputs": [],
   "source": [
    "#Libreria\n",
    "import seaborn as sns"
   ]
  },
  {
   "cell_type": "code",
   "execution_count": 48,
   "metadata": {},
   "outputs": [],
   "source": [
    "#Se crea una copia \n",
    "data_outliers = copy.deepcopy(data)\n",
    "data_outliers = data_outliers.dropna()"
   ]
  },
  {
   "cell_type": "code",
   "execution_count": 49,
   "metadata": {},
   "outputs": [],
   "source": [
    "#Age\n",
    "pl_age = np.percentile(data_outliers['Age'], 5)\n",
    "pu_age = np.percentile(data_outliers['Age'], 95)"
   ]
  },
  {
   "cell_type": "code",
   "execution_count": 50,
   "metadata": {},
   "outputs": [
    {
     "data": {
      "text/plain": [
       "<AxesSubplot:xlabel='PassengerId', ylabel='Age'>"
      ]
     },
     "execution_count": 50,
     "metadata": {},
     "output_type": "execute_result"
    },
    {
     "data": {
      "image/png": "[encoded data removed]",
      "text/plain": [
       "<Figure size 640x480 with 1 Axes>"
      ]
     },
     "metadata": {},
     "output_type": "display_data"
    }
   ],
   "source": [
    "sns.scatterplot(x = data_outliers['PassengerId'], y = data_outliers['Age'])\n",
    "sns.lineplot(x = data_outliers['PassengerId'], y = pl_age, color = 'orange')\n",
    "sns.lineplot(x = data_outliers['PassengerId'], y = pu_age, color = 'green')"
   ]
  },
  {
   "cell_type": "code",
   "execution_count": 51,
   "metadata": {},
   "outputs": [],
   "source": [
    "data_outliers_age = data_outliers[(data_outliers['Age']>=pl_age) & (data_outliers['Age']<=pu_age)]"
   ]
  },
  {
   "cell_type": "code",
   "execution_count": 52,
   "metadata": {},
   "outputs": [
    {
     "data": {
      "text/html": [
       "<div>\n",
       "<style scoped>\n",
       "    .dataframe tbody tr th:only-of-type {\n",
       "        vertical-align: middle;\n",
       "    }\n",
       "\n",
       "    .dataframe tbody tr th {\n",
       "        vertical-align: top;\n",
       "    }\n",
       "\n",
       "    .dataframe thead th {\n",
       "        text-align: right;\n",
       "    }\n",
       "</style>\n",
       "<table border=\"1\" class=\"dataframe\">\n",
       "  <thead>\n",
       "    <tr style=\"text-align: right;\">\n",
       "      <th></th>\n",
       "      <th>Age</th>\n",
       "    </tr>\n",
       "  </thead>\n",
       "  <tbody>\n",
       "    <tr>\n",
       "      <th>count</th>\n",
       "      <td>90.000000</td>\n",
       "    </tr>\n",
       "    <tr>\n",
       "      <th>mean</th>\n",
       "      <td>36.416667</td>\n",
       "    </tr>\n",
       "    <tr>\n",
       "      <th>std</th>\n",
       "      <td>12.368692</td>\n",
       "    </tr>\n",
       "    <tr>\n",
       "      <th>min</th>\n",
       "      <td>14.000000</td>\n",
       "    </tr>\n",
       "    <tr>\n",
       "      <th>25%</th>\n",
       "      <td>25.500000</td>\n",
       "    </tr>\n",
       "    <tr>\n",
       "      <th>50%</th>\n",
       "      <td>36.000000</td>\n",
       "    </tr>\n",
       "    <tr>\n",
       "      <th>75%</th>\n",
       "      <td>48.000000</td>\n",
       "    </tr>\n",
       "    <tr>\n",
       "      <th>max</th>\n",
       "      <td>61.000000</td>\n",
       "    </tr>\n",
       "  </tbody>\n",
       "</table>\n",
       "</div>"
      ],
      "text/plain": [
       "             Age\n",
       "count  90.000000\n",
       "mean   36.416667\n",
       "std    12.368692\n",
       "min    14.000000\n",
       "25%    25.500000\n",
       "50%    36.000000\n",
       "75%    48.000000\n",
       "max    61.000000"
      ]
     },
     "execution_count": 52,
     "metadata": {},
     "output_type": "execute_result"
    }
   ],
   "source": [
    "data_outliers_age[['Age']].describe()"
   ]
  },
  {
   "cell_type": "code",
   "execution_count": 53,
   "metadata": {},
   "outputs": [],
   "source": [
    "data_outliers['Age_pct'] = np.where(\n",
    "    data_outliers['Age']<pl_age,\n",
    "    pl_age,\n",
    "    np.where(\n",
    "        data_outliers['Age']>pu_age,\n",
    "        pu_age,\n",
    "        data_outliers['Age']\n",
    "    )\n",
    ")"
   ]
  },
  {
   "cell_type": "code",
   "execution_count": 54,
   "metadata": {},
   "outputs": [
    {
     "data": {
      "text/plain": [
       "1      35.0\n",
       "2      54.0\n",
       "5      34.0\n",
       "9      61.0\n",
       "10     45.0\n",
       "       ... \n",
       "171    52.0\n",
       "172    27.0\n",
       "173    39.0\n",
       "174    16.0\n",
       "177    31.0\n",
       "Name: Age_pct, Length: 99, dtype: float64"
      ]
     },
     "execution_count": 54,
     "metadata": {},
     "output_type": "execute_result"
    }
   ],
   "source": [
    "data_outliers['Age_pct']"
   ]
  },
  {
   "cell_type": "code",
   "execution_count": 55,
   "metadata": {},
   "outputs": [],
   "source": [
    "#SibSp\n",
    "pl_SibSp = np.percentile(data_outliers['SibSp'], 5)\n",
    "pu_SibSp = np.percentile(data_outliers['SibSp'], 95)"
   ]
  },
  {
   "cell_type": "code",
   "execution_count": 56,
   "metadata": {},
   "outputs": [
    {
     "data": {
      "text/plain": [
       "<AxesSubplot:xlabel='PassengerId', ylabel='SibSp'>"
      ]
     },
     "execution_count": 56,
     "metadata": {},
     "output_type": "execute_result"
    },
    {
     "data": {
      "image/png": "[encoded data removed]",
      "text/plain": [
       "<Figure size 640x480 with 1 Axes>"
      ]
     },
     "metadata": {},
     "output_type": "display_data"
    }
   ],
   "source": [
    "sns.scatterplot(x = data_outliers['PassengerId'], y = data_outliers['SibSp'])\n",
    "sns.lineplot(x = data_outliers['PassengerId'], y = pl_SibSp, color = 'orange')\n",
    "sns.lineplot(x = data_outliers['PassengerId'], y = pu_SibSp, color = 'green')"
   ]
  },
  {
   "cell_type": "code",
   "execution_count": 57,
   "metadata": {},
   "outputs": [],
   "source": [
    "data_outliers_SibSp = data_outliers[(data_outliers['SibSp']>=pl_SibSp) & (data_outliers['SibSp']<=pu_SibSp)]"
   ]
  },
  {
   "cell_type": "code",
   "execution_count": 58,
   "metadata": {},
   "outputs": [
    {
     "data": {
      "text/html": [
       "<div>\n",
       "<style scoped>\n",
       "    .dataframe tbody tr th:only-of-type {\n",
       "        vertical-align: middle;\n",
       "    }\n",
       "\n",
       "    .dataframe tbody tr th {\n",
       "        vertical-align: top;\n",
       "    }\n",
       "\n",
       "    .dataframe thead th {\n",
       "        text-align: right;\n",
       "    }\n",
       "</style>\n",
       "<table border=\"1\" class=\"dataframe\">\n",
       "  <thead>\n",
       "    <tr style=\"text-align: right;\">\n",
       "      <th></th>\n",
       "      <th>SibSp</th>\n",
       "    </tr>\n",
       "  </thead>\n",
       "  <tbody>\n",
       "    <tr>\n",
       "      <th>count</th>\n",
       "      <td>97.000000</td>\n",
       "    </tr>\n",
       "    <tr>\n",
       "      <th>mean</th>\n",
       "      <td>0.412371</td>\n",
       "    </tr>\n",
       "    <tr>\n",
       "      <th>std</th>\n",
       "      <td>0.494819</td>\n",
       "    </tr>\n",
       "    <tr>\n",
       "      <th>min</th>\n",
       "      <td>0.000000</td>\n",
       "    </tr>\n",
       "    <tr>\n",
       "      <th>25%</th>\n",
       "      <td>0.000000</td>\n",
       "    </tr>\n",
       "    <tr>\n",
       "      <th>50%</th>\n",
       "      <td>0.000000</td>\n",
       "    </tr>\n",
       "    <tr>\n",
       "      <th>75%</th>\n",
       "      <td>1.000000</td>\n",
       "    </tr>\n",
       "    <tr>\n",
       "      <th>max</th>\n",
       "      <td>1.000000</td>\n",
       "    </tr>\n",
       "  </tbody>\n",
       "</table>\n",
       "</div>"
      ],
      "text/plain": [
       "           SibSp\n",
       "count  97.000000\n",
       "mean    0.412371\n",
       "std     0.494819\n",
       "min     0.000000\n",
       "25%     0.000000\n",
       "50%     0.000000\n",
       "75%     1.000000\n",
       "max     1.000000"
      ]
     },
     "execution_count": 58,
     "metadata": {},
     "output_type": "execute_result"
    }
   ],
   "source": [
    "data_outliers_SibSp[['SibSp']].describe()"
   ]
  },
  {
   "cell_type": "code",
   "execution_count": 59,
   "metadata": {},
   "outputs": [],
   "source": [
    "data_outliers['SibSp_pct'] = np.where(\n",
    "    data_outliers['SibSp']<pl_SibSp,\n",
    "    pl_SibSp,\n",
    "    np.where(\n",
    "        data_outliers['SibSp']>pu_SibSp,\n",
    "        pu_SibSp,\n",
    "        data_outliers['SibSp']\n",
    "    )\n",
    ")"
   ]
  },
  {
   "cell_type": "code",
   "execution_count": 60,
   "metadata": {},
   "outputs": [
    {
     "data": {
      "text/plain": [
       "1      1.0\n",
       "2      0.0\n",
       "5      0.0\n",
       "9      0.0\n",
       "10     1.0\n",
       "      ... \n",
       "171    1.0\n",
       "172    0.0\n",
       "173    1.0\n",
       "174    0.0\n",
       "177    0.0\n",
       "Name: SibSp_pct, Length: 99, dtype: float64"
      ]
     },
     "execution_count": 60,
     "metadata": {},
     "output_type": "execute_result"
    }
   ],
   "source": [
    "data_outliers['SibSp_pct']"
   ]
  },
  {
   "cell_type": "code",
   "execution_count": 61,
   "metadata": {},
   "outputs": [],
   "source": [
    "#Parch\n",
    "pl_Parch = np.percentile(data_outliers['Parch'], 5)\n",
    "pu_Parch = np.percentile(data_outliers['Parch'], 95)"
   ]
  },
  {
   "cell_type": "code",
   "execution_count": 62,
   "metadata": {},
   "outputs": [
    {
     "data": {
      "text/plain": [
       "<AxesSubplot:xlabel='PassengerId', ylabel='Parch'>"
      ]
     },
     "execution_count": 62,
     "metadata": {},
     "output_type": "execute_result"
    },
    {
     "data": {
      "image/png": "[encoded data removed]",
      "text/plain": [
       "<Figure size 640x480 with 1 Axes>"
      ]
     },
     "metadata": {},
     "output_type": "display_data"
    }
   ],
   "source": [
    "sns.scatterplot(x = data_outliers['PassengerId'], y = data_outliers['Parch'])\n",
    "sns.lineplot(x = data_outliers['PassengerId'], y = pl_Parch, color = 'orange')\n",
    "sns.lineplot(x = data_outliers['PassengerId'], y = pu_Parch, color = 'green')"
   ]
  },
  {
   "cell_type": "code",
   "execution_count": 63,
   "metadata": {},
   "outputs": [],
   "source": [
    "data_outliers_Parch = data_outliers[(data_outliers['Parch']>=pl_Parch) & (data_outliers['Parch']<=pu_Parch)]"
   ]
  },
  {
   "cell_type": "code",
   "execution_count": 64,
   "metadata": {},
   "outputs": [
    {
     "data": {
      "text/html": [
       "<div>\n",
       "<style scoped>\n",
       "    .dataframe tbody tr th:only-of-type {\n",
       "        vertical-align: middle;\n",
       "    }\n",
       "\n",
       "    .dataframe tbody tr th {\n",
       "        vertical-align: top;\n",
       "    }\n",
       "\n",
       "    .dataframe thead th {\n",
       "        text-align: right;\n",
       "    }\n",
       "</style>\n",
       "<table border=\"1\" class=\"dataframe\">\n",
       "  <thead>\n",
       "    <tr style=\"text-align: right;\">\n",
       "      <th></th>\n",
       "      <th>Parch</th>\n",
       "    </tr>\n",
       "  </thead>\n",
       "  <tbody>\n",
       "    <tr>\n",
       "      <th>count</th>\n",
       "      <td>99.000000</td>\n",
       "    </tr>\n",
       "    <tr>\n",
       "      <th>mean</th>\n",
       "      <td>0.484848</td>\n",
       "    </tr>\n",
       "    <tr>\n",
       "      <th>std</th>\n",
       "      <td>0.733508</td>\n",
       "    </tr>\n",
       "    <tr>\n",
       "      <th>min</th>\n",
       "      <td>0.000000</td>\n",
       "    </tr>\n",
       "    <tr>\n",
       "      <th>25%</th>\n",
       "      <td>0.000000</td>\n",
       "    </tr>\n",
       "    <tr>\n",
       "      <th>50%</th>\n",
       "      <td>0.000000</td>\n",
       "    </tr>\n",
       "    <tr>\n",
       "      <th>75%</th>\n",
       "      <td>1.000000</td>\n",
       "    </tr>\n",
       "    <tr>\n",
       "      <th>max</th>\n",
       "      <td>2.000000</td>\n",
       "    </tr>\n",
       "  </tbody>\n",
       "</table>\n",
       "</div>"
      ],
      "text/plain": [
       "           Parch\n",
       "count  99.000000\n",
       "mean    0.484848\n",
       "std     0.733508\n",
       "min     0.000000\n",
       "25%     0.000000\n",
       "50%     0.000000\n",
       "75%     1.000000\n",
       "max     2.000000"
      ]
     },
     "execution_count": 64,
     "metadata": {},
     "output_type": "execute_result"
    }
   ],
   "source": [
    "data_outliers_Parch[['Parch']].describe()"
   ]
  },
  {
   "cell_type": "code",
   "execution_count": 65,
   "metadata": {},
   "outputs": [],
   "source": [
    "data_outliers['Parch_pct'] = np.where(\n",
    "    data_outliers['Parch']<pl_Parch,\n",
    "    pl_Parch,\n",
    "    np.where(\n",
    "        data_outliers['Parch']>pu_Parch,\n",
    "        pu_Parch,\n",
    "        data_outliers['Parch']\n",
    "    )\n",
    ")"
   ]
  },
  {
   "cell_type": "code",
   "execution_count": 66,
   "metadata": {},
   "outputs": [
    {
     "data": {
      "text/plain": [
       "1      0.0\n",
       "2      0.0\n",
       "5      0.0\n",
       "9      1.0\n",
       "10     0.0\n",
       "      ... \n",
       "171    1.0\n",
       "172    1.0\n",
       "173    1.0\n",
       "174    1.0\n",
       "177    0.0\n",
       "Name: Parch_pct, Length: 99, dtype: float64"
      ]
     },
     "execution_count": 66,
     "metadata": {},
     "output_type": "execute_result"
    }
   ],
   "source": [
    "data_outliers['Parch_pct']"
   ]
  },
  {
   "cell_type": "code",
   "execution_count": 67,
   "metadata": {},
   "outputs": [],
   "source": [
    "#Fare\n",
    "pl_Fare = np.percentile(data_outliers['Fare'], 5)\n",
    "pu_Fare = np.percentile(data_outliers['Fare'], 95)"
   ]
  },
  {
   "cell_type": "code",
   "execution_count": 68,
   "metadata": {},
   "outputs": [
    {
     "data": {
      "text/plain": [
       "<AxesSubplot:xlabel='PassengerId', ylabel='Fare'>"
      ]
     },
     "execution_count": 68,
     "metadata": {},
     "output_type": "execute_result"
    },
    {
     "data": {
      "image/png": "[encoded data removed]",
      "text/plain": [
       "<Figure size 640x480 with 1 Axes>"
      ]
     },
     "metadata": {},
     "output_type": "display_data"
    }
   ],
   "source": [
    "sns.scatterplot(x = data_outliers['PassengerId'], y = data_outliers['Fare'])\n",
    "sns.lineplot(x = data_outliers['PassengerId'], y = pl_Fare, color = 'orange')\n",
    "sns.lineplot(x = data_outliers['PassengerId'], y = pu_Fare, color = 'green')"
   ]
  },
  {
   "cell_type": "code",
   "execution_count": 69,
   "metadata": {},
   "outputs": [],
   "source": [
    "data_outliers_Fare = data_outliers[(data_outliers['Fare']>=pl_Fare) & (data_outliers['Fare']<=pu_Fare)]"
   ]
  },
  {
   "cell_type": "code",
   "execution_count": 70,
   "metadata": {},
   "outputs": [
    {
     "data": {
      "text/html": [
       "<div>\n",
       "<style scoped>\n",
       "    .dataframe tbody tr th:only-of-type {\n",
       "        vertical-align: middle;\n",
       "    }\n",
       "\n",
       "    .dataframe tbody tr th {\n",
       "        vertical-align: top;\n",
       "    }\n",
       "\n",
       "    .dataframe thead th {\n",
       "        text-align: right;\n",
       "    }\n",
       "</style>\n",
       "<table border=\"1\" class=\"dataframe\">\n",
       "  <thead>\n",
       "    <tr style=\"text-align: right;\">\n",
       "      <th></th>\n",
       "      <th>Fare</th>\n",
       "    </tr>\n",
       "  </thead>\n",
       "  <tbody>\n",
       "    <tr>\n",
       "      <th>count</th>\n",
       "      <td>89.000000</td>\n",
       "    </tr>\n",
       "    <tr>\n",
       "      <th>mean</th>\n",
       "      <td>67.329448</td>\n",
       "    </tr>\n",
       "    <tr>\n",
       "      <th>std</th>\n",
       "      <td>36.396932</td>\n",
       "    </tr>\n",
       "    <tr>\n",
       "      <th>min</th>\n",
       "      <td>12.875000</td>\n",
       "    </tr>\n",
       "    <tr>\n",
       "      <th>25%</th>\n",
       "      <td>34.654200</td>\n",
       "    </tr>\n",
       "    <tr>\n",
       "      <th>50%</th>\n",
       "      <td>61.979200</td>\n",
       "    </tr>\n",
       "    <tr>\n",
       "      <th>75%</th>\n",
       "      <td>86.500000</td>\n",
       "    </tr>\n",
       "    <tr>\n",
       "      <th>max</th>\n",
       "      <td>153.462500</td>\n",
       "    </tr>\n",
       "  </tbody>\n",
       "</table>\n",
       "</div>"
      ],
      "text/plain": [
       "             Fare\n",
       "count   89.000000\n",
       "mean    67.329448\n",
       "std     36.396932\n",
       "min     12.875000\n",
       "25%     34.654200\n",
       "50%     61.979200\n",
       "75%     86.500000\n",
       "max    153.462500"
      ]
     },
     "execution_count": 70,
     "metadata": {},
     "output_type": "execute_result"
    }
   ],
   "source": [
    "data_outliers_Fare[['Fare']].describe()"
   ]
  },
  {
   "cell_type": "code",
   "execution_count": 71,
   "metadata": {},
   "outputs": [],
   "source": [
    "data_outliers['Fare_pct'] = np.where(\n",
    "    data_outliers['Fare']<pl_Fare,\n",
    "    pl_Fare,\n",
    "    np.where(\n",
    "        data_outliers['Fare']>pu_Fare,\n",
    "        pu_Fare,\n",
    "        data_outliers['Fare']\n",
    "    )\n",
    ")"
   ]
  },
  {
   "cell_type": "code",
   "execution_count": 72,
   "metadata": {},
   "outputs": [
    {
     "data": {
      "text/plain": [
       "1      53.1000\n",
       "2      51.8625\n",
       "5      13.0000\n",
       "9      61.9792\n",
       "10     83.4750\n",
       "        ...   \n",
       "171    93.5000\n",
       "172    12.8350\n",
       "173    83.1583\n",
       "174    39.4000\n",
       "177    50.4958\n",
       "Name: Fare_pct, Length: 99, dtype: float64"
      ]
     },
     "execution_count": 72,
     "metadata": {},
     "output_type": "execute_result"
    }
   ],
   "source": [
    "data_outliers['Fare_pct']"
   ]
  },
  {
   "cell_type": "markdown",
   "metadata": {},
   "source": [
    "### 5.\tAl comparar los métodos del inciso 4 contra “titanic.csv”, ¿Qué método (para cada columna) se acerca más a la realidad y por qué?"
   ]
  },
  {
   "cell_type": "code",
   "execution_count": 73,
   "metadata": {},
   "outputs": [],
   "source": [
    "from functools import reduce"
   ]
  },
  {
   "cell_type": "code",
   "execution_count": 74,
   "metadata": {},
   "outputs": [
    {
     "data": {
      "text/html": [
       "<div>\n",
       "<style scoped>\n",
       "    .dataframe tbody tr th:only-of-type {\n",
       "        vertical-align: middle;\n",
       "    }\n",
       "\n",
       "    .dataframe tbody tr th {\n",
       "        vertical-align: top;\n",
       "    }\n",
       "\n",
       "    .dataframe thead th {\n",
       "        text-align: right;\n",
       "    }\n",
       "</style>\n",
       "<table border=\"1\" class=\"dataframe\">\n",
       "  <thead>\n",
       "    <tr style=\"text-align: right;\">\n",
       "      <th></th>\n",
       "      <th>Age</th>\n",
       "      <th>Age_mean</th>\n",
       "      <th>Age_median</th>\n",
       "      <th>Age_mode</th>\n",
       "      <th>Age_lm</th>\n",
       "      <th>Age_pct</th>\n",
       "    </tr>\n",
       "  </thead>\n",
       "  <tbody>\n",
       "    <tr>\n",
       "      <th>count</th>\n",
       "      <td>183.000000</td>\n",
       "      <td>183.000000</td>\n",
       "      <td>183.00000</td>\n",
       "      <td>183.000000</td>\n",
       "      <td>183.000000</td>\n",
       "      <td>99.000000</td>\n",
       "    </tr>\n",
       "    <tr>\n",
       "      <th>mean</th>\n",
       "      <td>35.674426</td>\n",
       "      <td>35.692532</td>\n",
       "      <td>35.66623</td>\n",
       "      <td>34.095191</td>\n",
       "      <td>35.098425</td>\n",
       "      <td>36.262626</td>\n",
       "    </tr>\n",
       "    <tr>\n",
       "      <th>std</th>\n",
       "      <td>15.643866</td>\n",
       "      <td>14.526959</td>\n",
       "      <td>14.52711</td>\n",
       "      <td>15.074700</td>\n",
       "      <td>6.580361</td>\n",
       "      <td>13.780670</td>\n",
       "    </tr>\n",
       "    <tr>\n",
       "      <th>min</th>\n",
       "      <td>0.920000</td>\n",
       "      <td>0.920000</td>\n",
       "      <td>0.92000</td>\n",
       "      <td>0.920000</td>\n",
       "      <td>13.379647</td>\n",
       "      <td>13.700000</td>\n",
       "    </tr>\n",
       "    <tr>\n",
       "      <th>25%</th>\n",
       "      <td>24.000000</td>\n",
       "      <td>25.000000</td>\n",
       "      <td>25.00000</td>\n",
       "      <td>24.000000</td>\n",
       "      <td>34.244500</td>\n",
       "      <td>24.000000</td>\n",
       "    </tr>\n",
       "    <tr>\n",
       "      <th>50%</th>\n",
       "      <td>36.000000</td>\n",
       "      <td>35.692532</td>\n",
       "      <td>35.50000</td>\n",
       "      <td>31.000000</td>\n",
       "      <td>34.324833</td>\n",
       "      <td>36.000000</td>\n",
       "    </tr>\n",
       "    <tr>\n",
       "      <th>75%</th>\n",
       "      <td>47.500000</td>\n",
       "      <td>46.500000</td>\n",
       "      <td>46.50000</td>\n",
       "      <td>46.500000</td>\n",
       "      <td>42.721630</td>\n",
       "      <td>48.500000</td>\n",
       "    </tr>\n",
       "    <tr>\n",
       "      <th>max</th>\n",
       "      <td>80.000000</td>\n",
       "      <td>80.000000</td>\n",
       "      <td>80.00000</td>\n",
       "      <td>80.000000</td>\n",
       "      <td>42.903544</td>\n",
       "      <td>61.000000</td>\n",
       "    </tr>\n",
       "  </tbody>\n",
       "</table>\n",
       "</div>"
      ],
      "text/plain": [
       "              Age    Age_mean  Age_median    Age_mode      Age_lm    Age_pct\n",
       "count  183.000000  183.000000   183.00000  183.000000  183.000000  99.000000\n",
       "mean    35.674426   35.692532    35.66623   34.095191   35.098425  36.262626\n",
       "std     15.643866   14.526959    14.52711   15.074700    6.580361  13.780670\n",
       "min      0.920000    0.920000     0.92000    0.920000   13.379647  13.700000\n",
       "25%     24.000000   25.000000    25.00000   24.000000   34.244500  24.000000\n",
       "50%     36.000000   35.692532    35.50000   31.000000   34.324833  36.000000\n",
       "75%     47.500000   46.500000    46.50000   46.500000   42.721630  48.500000\n",
       "max     80.000000   80.000000    80.00000   80.000000   42.903544  61.000000"
      ]
     },
     "execution_count": 74,
     "metadata": {},
     "output_type": "execute_result"
    }
   ],
   "source": [
    "#Age\n",
    "pd.merge(\n",
    "pd.merge(\n",
    "pd.merge(\n",
    "pd.merge(\n",
    "pd.merge(\n",
    "    titanic[\"Age\"].describe() , data_copia[\"Age_mean\"].describe(),left_index=True, right_index=True, suffixes=('', '2')),\n",
    "    data_copia[\"Age_median\"].describe(),left_index=True, right_index=True, suffixes=('', '2')), \n",
    "    data_copia[\"Age_mode\"].describe(),left_index=True, right_index=True, suffixes=('', '2')),\n",
    "    data_regresion[\"Age_lm\"].describe(),left_index=True, right_index=True, suffixes=('', '2')),\n",
    "    data_outliers['Age_pct'].describe(),left_index=True, right_index=True, suffixes=('', '2'))\n",
    "\n"
   ]
  },
  {
   "cell_type": "markdown",
   "metadata": {},
   "source": [
    "Conclusión: Se puede observar que el método que más se acerca a la realidad (Age) es Age_median, es decir que la mediana se acerca más al a distribución real y el promedio es muy parecido.  "
   ]
  },
  {
   "cell_type": "code",
   "execution_count": 75,
   "metadata": {},
   "outputs": [
    {
     "data": {
      "text/html": [
       "<div>\n",
       "<style scoped>\n",
       "    .dataframe tbody tr th:only-of-type {\n",
       "        vertical-align: middle;\n",
       "    }\n",
       "\n",
       "    .dataframe tbody tr th {\n",
       "        vertical-align: top;\n",
       "    }\n",
       "\n",
       "    .dataframe thead th {\n",
       "        text-align: right;\n",
       "    }\n",
       "</style>\n",
       "<table border=\"1\" class=\"dataframe\">\n",
       "  <thead>\n",
       "    <tr style=\"text-align: right;\">\n",
       "      <th></th>\n",
       "      <th>SibSp</th>\n",
       "      <th>SibSp_mean</th>\n",
       "      <th>SibSp_median</th>\n",
       "      <th>SibSp_mode</th>\n",
       "      <th>SibSp_lm</th>\n",
       "      <th>SibSp_pct</th>\n",
       "    </tr>\n",
       "  </thead>\n",
       "  <tbody>\n",
       "    <tr>\n",
       "      <th>count</th>\n",
       "      <td>183.000000</td>\n",
       "      <td>183.000000</td>\n",
       "      <td>183.000000</td>\n",
       "      <td>183.000000</td>\n",
       "      <td>183.000000</td>\n",
       "      <td>99.000000</td>\n",
       "    </tr>\n",
       "    <tr>\n",
       "      <th>mean</th>\n",
       "      <td>0.464481</td>\n",
       "      <td>0.461111</td>\n",
       "      <td>0.453552</td>\n",
       "      <td>0.453552</td>\n",
       "      <td>0.462631</td>\n",
       "      <td>0.424242</td>\n",
       "    </tr>\n",
       "    <tr>\n",
       "      <th>std</th>\n",
       "      <td>0.644159</td>\n",
       "      <td>0.640775</td>\n",
       "      <td>0.643459</td>\n",
       "      <td>0.643459</td>\n",
       "      <td>0.122925</td>\n",
       "      <td>0.496743</td>\n",
       "    </tr>\n",
       "    <tr>\n",
       "      <th>min</th>\n",
       "      <td>0.000000</td>\n",
       "      <td>0.000000</td>\n",
       "      <td>0.000000</td>\n",
       "      <td>0.000000</td>\n",
       "      <td>0.018478</td>\n",
       "      <td>0.000000</td>\n",
       "    </tr>\n",
       "    <tr>\n",
       "      <th>25%</th>\n",
       "      <td>0.000000</td>\n",
       "      <td>0.000000</td>\n",
       "      <td>0.000000</td>\n",
       "      <td>0.000000</td>\n",
       "      <td>0.409393</td>\n",
       "      <td>0.000000</td>\n",
       "    </tr>\n",
       "    <tr>\n",
       "      <th>50%</th>\n",
       "      <td>0.000000</td>\n",
       "      <td>0.000000</td>\n",
       "      <td>0.000000</td>\n",
       "      <td>0.000000</td>\n",
       "      <td>0.473799</td>\n",
       "      <td>0.000000</td>\n",
       "    </tr>\n",
       "    <tr>\n",
       "      <th>75%</th>\n",
       "      <td>1.000000</td>\n",
       "      <td>1.000000</td>\n",
       "      <td>1.000000</td>\n",
       "      <td>1.000000</td>\n",
       "      <td>0.545383</td>\n",
       "      <td>1.000000</td>\n",
       "    </tr>\n",
       "    <tr>\n",
       "      <th>max</th>\n",
       "      <td>3.000000</td>\n",
       "      <td>3.000000</td>\n",
       "      <td>3.000000</td>\n",
       "      <td>3.000000</td>\n",
       "      <td>0.686605</td>\n",
       "      <td>1.000000</td>\n",
       "    </tr>\n",
       "  </tbody>\n",
       "</table>\n",
       "</div>"
      ],
      "text/plain": [
       "            SibSp  SibSp_mean  SibSp_median  SibSp_mode    SibSp_lm  SibSp_pct\n",
       "count  183.000000  183.000000    183.000000  183.000000  183.000000  99.000000\n",
       "mean     0.464481    0.461111      0.453552    0.453552    0.462631   0.424242\n",
       "std      0.644159    0.640775      0.643459    0.643459    0.122925   0.496743\n",
       "min      0.000000    0.000000      0.000000    0.000000    0.018478   0.000000\n",
       "25%      0.000000    0.000000      0.000000    0.000000    0.409393   0.000000\n",
       "50%      0.000000    0.000000      0.000000    0.000000    0.473799   0.000000\n",
       "75%      1.000000    1.000000      1.000000    1.000000    0.545383   1.000000\n",
       "max      3.000000    3.000000      3.000000    3.000000    0.686605   1.000000"
      ]
     },
     "execution_count": 75,
     "metadata": {},
     "output_type": "execute_result"
    }
   ],
   "source": [
    "#SibSp\n",
    "pd.merge(\n",
    "pd.merge(\n",
    "pd.merge(\n",
    "pd.merge(\n",
    "pd.merge(\n",
    "    titanic[\"SibSp\"].describe() , data_copia[\"SibSp_mean\"].describe(),left_index=True, right_index=True, suffixes=('', '2')),\n",
    "    data_copia[\"SibSp_median\"].describe(),left_index=True, right_index=True, suffixes=('', '2')), \n",
    "    data_copia[\"SibSp_mode\"].describe(),left_index=True, right_index=True, suffixes=('', '2')),\n",
    "    data_regresion[\"SibSp_lm\"].describe(),left_index=True, right_index=True, suffixes=('', '2')),\n",
    "    data_outliers['SibSp_pct'].describe(),left_index=True, right_index=True, suffixes=('', '2'))"
   ]
  },
  {
   "cell_type": "markdown",
   "metadata": {},
   "source": [
    "Conclusión: Se puede observar que el método que más se acerca a la reliadad (SibSp) es SibSP_mean, es decir que con el promedio se sigue una distribución muy parecida a la real."
   ]
  },
  {
   "cell_type": "code",
   "execution_count": 76,
   "metadata": {},
   "outputs": [
    {
     "data": {
      "text/html": [
       "<div>\n",
       "<style scoped>\n",
       "    .dataframe tbody tr th:only-of-type {\n",
       "        vertical-align: middle;\n",
       "    }\n",
       "\n",
       "    .dataframe tbody tr th {\n",
       "        vertical-align: top;\n",
       "    }\n",
       "\n",
       "    .dataframe thead th {\n",
       "        text-align: right;\n",
       "    }\n",
       "</style>\n",
       "<table border=\"1\" class=\"dataframe\">\n",
       "  <thead>\n",
       "    <tr style=\"text-align: right;\">\n",
       "      <th></th>\n",
       "      <th>Parch</th>\n",
       "      <th>Parch_mean</th>\n",
       "      <th>Parch_median</th>\n",
       "      <th>Parch_mode</th>\n",
       "      <th>Parch_lm</th>\n",
       "      <th>Parch_pct</th>\n",
       "    </tr>\n",
       "  </thead>\n",
       "  <tbody>\n",
       "    <tr>\n",
       "      <th>count</th>\n",
       "      <td>183.000000</td>\n",
       "      <td>183.000000</td>\n",
       "      <td>183.000000</td>\n",
       "      <td>183.000000</td>\n",
       "      <td>183.000000</td>\n",
       "      <td>99.000000</td>\n",
       "    </tr>\n",
       "    <tr>\n",
       "      <th>mean</th>\n",
       "      <td>0.475410</td>\n",
       "      <td>0.461988</td>\n",
       "      <td>0.431694</td>\n",
       "      <td>0.431694</td>\n",
       "      <td>0.462398</td>\n",
       "      <td>0.484848</td>\n",
       "    </tr>\n",
       "    <tr>\n",
       "      <th>std</th>\n",
       "      <td>0.754617</td>\n",
       "      <td>0.728173</td>\n",
       "      <td>0.737147</td>\n",
       "      <td>0.737147</td>\n",
       "      <td>0.056553</td>\n",
       "      <td>0.733508</td>\n",
       "    </tr>\n",
       "    <tr>\n",
       "      <th>min</th>\n",
       "      <td>0.000000</td>\n",
       "      <td>0.000000</td>\n",
       "      <td>0.000000</td>\n",
       "      <td>0.000000</td>\n",
       "      <td>0.365029</td>\n",
       "      <td>0.000000</td>\n",
       "    </tr>\n",
       "    <tr>\n",
       "      <th>25%</th>\n",
       "      <td>0.000000</td>\n",
       "      <td>0.000000</td>\n",
       "      <td>0.000000</td>\n",
       "      <td>0.000000</td>\n",
       "      <td>0.419466</td>\n",
       "      <td>0.000000</td>\n",
       "    </tr>\n",
       "    <tr>\n",
       "      <th>50%</th>\n",
       "      <td>0.000000</td>\n",
       "      <td>0.000000</td>\n",
       "      <td>0.000000</td>\n",
       "      <td>0.000000</td>\n",
       "      <td>0.459071</td>\n",
       "      <td>0.000000</td>\n",
       "    </tr>\n",
       "    <tr>\n",
       "      <th>75%</th>\n",
       "      <td>1.000000</td>\n",
       "      <td>1.000000</td>\n",
       "      <td>1.000000</td>\n",
       "      <td>1.000000</td>\n",
       "      <td>0.500278</td>\n",
       "      <td>1.000000</td>\n",
       "    </tr>\n",
       "    <tr>\n",
       "      <th>max</th>\n",
       "      <td>4.000000</td>\n",
       "      <td>4.000000</td>\n",
       "      <td>4.000000</td>\n",
       "      <td>4.000000</td>\n",
       "      <td>0.652815</td>\n",
       "      <td>2.000000</td>\n",
       "    </tr>\n",
       "  </tbody>\n",
       "</table>\n",
       "</div>"
      ],
      "text/plain": [
       "            Parch  Parch_mean  Parch_median  Parch_mode    Parch_lm  Parch_pct\n",
       "count  183.000000  183.000000    183.000000  183.000000  183.000000  99.000000\n",
       "mean     0.475410    0.461988      0.431694    0.431694    0.462398   0.484848\n",
       "std      0.754617    0.728173      0.737147    0.737147    0.056553   0.733508\n",
       "min      0.000000    0.000000      0.000000    0.000000    0.365029   0.000000\n",
       "25%      0.000000    0.000000      0.000000    0.000000    0.419466   0.000000\n",
       "50%      0.000000    0.000000      0.000000    0.000000    0.459071   0.000000\n",
       "75%      1.000000    1.000000      1.000000    1.000000    0.500278   1.000000\n",
       "max      4.000000    4.000000      4.000000    4.000000    0.652815   2.000000"
      ]
     },
     "execution_count": 76,
     "metadata": {},
     "output_type": "execute_result"
    }
   ],
   "source": [
    "#Parch\n",
    "pd.merge(\n",
    "pd.merge(\n",
    "pd.merge(\n",
    "pd.merge(\n",
    "pd.merge(\n",
    "    titanic[\"Parch\"].describe() , data_copia[\"Parch_mean\"].describe(),left_index=True, right_index=True, suffixes=('', '2')),\n",
    "    data_copia[\"Parch_median\"].describe(),left_index=True, right_index=True, suffixes=('', '2')), \n",
    "    data_copia[\"Parch_mode\"].describe(),left_index=True, right_index=True, suffixes=('', '2')),\n",
    "    data_regresion[\"Parch_lm\"].describe(),left_index=True, right_index=True, suffixes=('', '2')),\n",
    "    data_outliers['Parch_pct'].describe(),left_index=True, right_index=True, suffixes=('', '2'))"
   ]
  },
  {
   "cell_type": "markdown",
   "metadata": {},
   "source": [
    "Conclusión: Se puede observar que el método que más se acerca a la realidad (Parch) es Parch_mean, es decir que con la imputación con la media general se sigue una distribución muy cercana a la realidad, pero en este caso la media si difiere de la realidad y al igual que desviación. "
   ]
  },
  {
   "cell_type": "code",
   "execution_count": 77,
   "metadata": {},
   "outputs": [
    {
     "data": {
      "text/html": [
       "<div>\n",
       "<style scoped>\n",
       "    .dataframe tbody tr th:only-of-type {\n",
       "        vertical-align: middle;\n",
       "    }\n",
       "\n",
       "    .dataframe tbody tr th {\n",
       "        vertical-align: top;\n",
       "    }\n",
       "\n",
       "    .dataframe thead th {\n",
       "        text-align: right;\n",
       "    }\n",
       "</style>\n",
       "<table border=\"1\" class=\"dataframe\">\n",
       "  <thead>\n",
       "    <tr style=\"text-align: right;\">\n",
       "      <th></th>\n",
       "      <th>Fare</th>\n",
       "      <th>Fare_mean</th>\n",
       "      <th>Fare_median</th>\n",
       "      <th>Fare_mode</th>\n",
       "      <th>Fare_lm</th>\n",
       "      <th>Fare_pct</th>\n",
       "    </tr>\n",
       "  </thead>\n",
       "  <tbody>\n",
       "    <tr>\n",
       "      <th>count</th>\n",
       "      <td>183.000000</td>\n",
       "      <td>183.000000</td>\n",
       "      <td>183.000000</td>\n",
       "      <td>183.000000</td>\n",
       "      <td>183.000000</td>\n",
       "      <td>99.000000</td>\n",
       "    </tr>\n",
       "    <tr>\n",
       "      <th>mean</th>\n",
       "      <td>78.682469</td>\n",
       "      <td>79.872014</td>\n",
       "      <td>78.622177</td>\n",
       "      <td>76.958243</td>\n",
       "      <td>79.481007</td>\n",
       "      <td>68.984955</td>\n",
       "    </tr>\n",
       "    <tr>\n",
       "      <th>std</th>\n",
       "      <td>76.347843</td>\n",
       "      <td>74.852909</td>\n",
       "      <td>75.034197</td>\n",
       "      <td>75.832995</td>\n",
       "      <td>26.069311</td>\n",
       "      <td>41.556087</td>\n",
       "    </tr>\n",
       "    <tr>\n",
       "      <th>min</th>\n",
       "      <td>0.000000</td>\n",
       "      <td>5.000000</td>\n",
       "      <td>5.000000</td>\n",
       "      <td>5.000000</td>\n",
       "      <td>-19.440293</td>\n",
       "      <td>12.835000</td>\n",
       "    </tr>\n",
       "    <tr>\n",
       "      <th>25%</th>\n",
       "      <td>29.700000</td>\n",
       "      <td>30.000000</td>\n",
       "      <td>30.000000</td>\n",
       "      <td>26.550000</td>\n",
       "      <td>76.513550</td>\n",
       "      <td>32.910400</td>\n",
       "    </tr>\n",
       "    <tr>\n",
       "      <th>50%</th>\n",
       "      <td>57.000000</td>\n",
       "      <td>63.358300</td>\n",
       "      <td>57.000000</td>\n",
       "      <td>55.441700</td>\n",
       "      <td>93.322873</td>\n",
       "      <td>61.979200</td>\n",
       "    </tr>\n",
       "    <tr>\n",
       "      <th>75%</th>\n",
       "      <td>90.000000</td>\n",
       "      <td>90.000000</td>\n",
       "      <td>90.000000</td>\n",
       "      <td>90.000000</td>\n",
       "      <td>94.416792</td>\n",
       "      <td>90.000000</td>\n",
       "    </tr>\n",
       "    <tr>\n",
       "      <th>max</th>\n",
       "      <td>512.329200</td>\n",
       "      <td>512.329200</td>\n",
       "      <td>512.329200</td>\n",
       "      <td>512.329200</td>\n",
       "      <td>96.031961</td>\n",
       "      <td>154.602920</td>\n",
       "    </tr>\n",
       "  </tbody>\n",
       "</table>\n",
       "</div>"
      ],
      "text/plain": [
       "             Fare   Fare_mean  Fare_median   Fare_mode     Fare_lm    Fare_pct\n",
       "count  183.000000  183.000000   183.000000  183.000000  183.000000   99.000000\n",
       "mean    78.682469   79.872014    78.622177   76.958243   79.481007   68.984955\n",
       "std     76.347843   74.852909    75.034197   75.832995   26.069311   41.556087\n",
       "min      0.000000    5.000000     5.000000    5.000000  -19.440293   12.835000\n",
       "25%     29.700000   30.000000    30.000000   26.550000   76.513550   32.910400\n",
       "50%     57.000000   63.358300    57.000000   55.441700   93.322873   61.979200\n",
       "75%     90.000000   90.000000    90.000000   90.000000   94.416792   90.000000\n",
       "max    512.329200  512.329200   512.329200  512.329200   96.031961  154.602920"
      ]
     },
     "execution_count": 77,
     "metadata": {},
     "output_type": "execute_result"
    }
   ],
   "source": [
    "#Fare\n",
    "pd.merge(\n",
    "pd.merge(\n",
    "pd.merge(\n",
    "pd.merge(\n",
    "pd.merge(\n",
    "    titanic[\"Fare\"].describe() , data_copia[\"Fare_mean\"].describe(),left_index=True, right_index=True, suffixes=('', '2')),\n",
    "    data_copia[\"Fare_median\"].describe(),left_index=True, right_index=True, suffixes=('', '2')), \n",
    "    data_copia[\"Fare_mode\"].describe(),left_index=True, right_index=True, suffixes=('', '2')),\n",
    "    data_regresion[\"Fare_lm\"].describe(),left_index=True, right_index=True, suffixes=('', '2')),\n",
    "    data_outliers['Fare_pct'].describe(),left_index=True, right_index=True, suffixes=('', '2'))"
   ]
  },
  {
   "cell_type": "markdown",
   "metadata": {},
   "source": [
    "Conclusión: Se puede observar que el método que más se acerca a la realidad (Fare) es Fare_median, es decir que con la imputación de la mediana general la distribcuion es muy similar a la realidad al igual que el primedio, sin embargo, se puede ver una diferencia con la distribución."
   ]
  },
  {
   "cell_type": "code",
   "execution_count": 78,
   "metadata": {},
   "outputs": [
    {
     "data": {
      "text/html": [
       "<div>\n",
       "<style scoped>\n",
       "    .dataframe tbody tr th:only-of-type {\n",
       "        vertical-align: middle;\n",
       "    }\n",
       "\n",
       "    .dataframe tbody tr th {\n",
       "        vertical-align: top;\n",
       "    }\n",
       "\n",
       "    .dataframe thead th {\n",
       "        text-align: right;\n",
       "    }\n",
       "</style>\n",
       "<table border=\"1\" class=\"dataframe\">\n",
       "  <thead>\n",
       "    <tr style=\"text-align: right;\">\n",
       "      <th></th>\n",
       "      <th>Embarked</th>\n",
       "      <th>Embarked_mode</th>\n",
       "    </tr>\n",
       "  </thead>\n",
       "  <tbody>\n",
       "    <tr>\n",
       "      <th>count</th>\n",
       "      <td>183</td>\n",
       "      <td>183</td>\n",
       "    </tr>\n",
       "    <tr>\n",
       "      <th>unique</th>\n",
       "      <td>3</td>\n",
       "      <td>3</td>\n",
       "    </tr>\n",
       "    <tr>\n",
       "      <th>top</th>\n",
       "      <td>S</td>\n",
       "      <td>S</td>\n",
       "    </tr>\n",
       "    <tr>\n",
       "      <th>freq</th>\n",
       "      <td>116</td>\n",
       "      <td>122</td>\n",
       "    </tr>\n",
       "  </tbody>\n",
       "</table>\n",
       "</div>"
      ],
      "text/plain": [
       "       Embarked Embarked_mode\n",
       "count       183           183\n",
       "unique        3             3\n",
       "top           S             S\n",
       "freq        116           122"
      ]
     },
     "execution_count": 78,
     "metadata": {},
     "output_type": "execute_result"
    }
   ],
   "source": [
    "#Embarked\n",
    "pd.merge(titanic[\"Embarked\"].describe() , data_copia[\"Embarked_mode\"].describe(),left_index=True, right_index=True, suffixes=('', '2'))"
   ]
  },
  {
   "cell_type": "markdown",
   "metadata": {},
   "source": [
    "Conclusión: Al ser Embarked una variable categorica el unico método que se le pudo aplicar es la moda."
   ]
  },
  {
   "cell_type": "markdown",
   "metadata": {},
   "source": [
    "### 6.  Conclusiones "
   ]
  },
  {
   "cell_type": "markdown",
   "metadata": {},
   "source": [
    "A continuación se dará una conclusión general por cada estadística. \n",
    "\n",
    "- Count: Todas las columnas cuentan con 183 observaciones, excepto las columnas cuyo metodo aplicado fue Percentile approach. Esto se debe a que habian missing values entonces se tuvieron que elminar del data frame. \n",
    "- Mean: Las columnas que más se acercaron al promedio real fueron a las que se les aplicó el metodo de la media y la mediana, sin embrago, como no se cuenta con muchas observaciones el valor de estas dos columnas no son iguales. A pesar de que no se utilizaron todas las columnas para hacer la regresión lineal por los missing values se pudo observar que en la mayoria de casos el promedio si se acercó al real. El promedio que más se alejó del real fueron las columnas a las que se le aplicó el método de Percentile approach, una de las principales razones pudo haber sido que se eliminaron muchas observaciones. \n",
    "- Desviación estándar: La desviación estándar se vio afectada en todos los casos, una de las principales causas en porque las imputaciones no son precisas entonces se modifica el comportamiento y distribución de la data. La que más se vio afectada fueron las columnas que utilizaron el modelo de Percentile approach por la misma razon de no tener el total de observaciones.\n",
    "- Distribución: Se pudo observar que en la mayoria de los casos la distribución se mantuvo igual a la real, sin embargo, como se vio en clase cuando se hace una imputacion por la moda la distribución se ve afectada.\n",
    "- Min / Max: En la mayoria de los casos se pudo obaservar que los valores minimos y maximos se mantuvieron igual, sin embargo, las columnas que más fectadas se vieron fueron a las que se eles aplicó el método de regresión lineal, esto se debe a que no se utilizaron todas las columnas para hacer la regresión. \n",
    "\n",
    "Conclusiónes generales:\n",
    "- Si se trabaja con data moderada y los valores maximos y minimos tienen una gran diferencia, se recomienda utilizar una imputación por la moda debido a que al utilizar la media se pude sesgar. Sin embargo, si se tienen muchos datos la media y la mediana van a llegar a coincidir. "
   ]
  },
  {
   "cell_type": "markdown",
   "metadata": {},
   "source": [
    "## Parte 2"
   ]
  },
  {
   "cell_type": "markdown",
   "metadata": {},
   "source": [
    "### 1.\tLuego del pre-procesamiento de la data con Missing Values, normalice las columnas numéricas por los métodos:"
   ]
  },
  {
   "cell_type": "markdown",
   "metadata": {},
   "source": [
    "Estandarización titanic_MD.csv"
   ]
  },
  {
   "cell_type": "code",
   "execution_count": 89,
   "metadata": {},
   "outputs": [],
   "source": [
    "#mean_data =  copy.deepcopy(data_copia[[\"PassengerId\",\"Survived\",\"Pclass\",\"Age_mean\",\"SibSp_mean\",\"Parch_mean\",\"Fare_mean\"]])\n",
    "data1 = data_copia[[\"PassengerId\",\"Survived\",\"Pclass\",\"Age_mean\",\"Age_median\",\"Age_mode\",\"SibSp_mean\",\"SibSp_median\",\"SibSp_mode\",\"Parch_mean\",\"Parch_median\",\"Parch_mode\",\"Fare_mean\",\"Fare_median\",\"Fare_mode\"]]\n",
    "data2 = data_regresion[[\"Age_lm\",\"SibSp_lm\",\"Parch_lm\",\"Fare_lm\"]]\n",
    "mean_data=pd.merge(data1 , data2,left_index=True, right_index=True, suffixes=('', '2'))"
   ]
  },
  {
   "cell_type": "markdown",
   "metadata": {},
   "source": [
    "Standarization"
   ]
  },
  {
   "cell_type": "code",
   "execution_count": 90,
   "metadata": {},
   "outputs": [],
   "source": [
    "from sklearn.preprocessing import StandardScaler"
   ]
  },
  {
   "cell_type": "code",
   "execution_count": 91,
   "metadata": {},
   "outputs": [],
   "source": [
    "scaler = StandardScaler()\n",
    "mean_data_tandarization = copy.deepcopy(mean_data)\n",
    "for col in mean_data_tandarization.select_dtypes(include=['float', 'int']).columns:\n",
    "    mean_data_tandarization[col+'_z'] = scaler.fit_transform(mean_data_tandarization[[col]])"
   ]
  },
  {
   "cell_type": "code",
   "execution_count": 115,
   "metadata": {},
   "outputs": [
    {
     "data": {
      "text/html": [
       "<div>\n",
       "<style scoped>\n",
       "    .dataframe tbody tr th:only-of-type {\n",
       "        vertical-align: middle;\n",
       "    }\n",
       "\n",
       "    .dataframe tbody tr th {\n",
       "        vertical-align: top;\n",
       "    }\n",
       "\n",
       "    .dataframe thead th {\n",
       "        text-align: right;\n",
       "    }\n",
       "</style>\n",
       "<table border=\"1\" class=\"dataframe\">\n",
       "  <thead>\n",
       "    <tr style=\"text-align: right;\">\n",
       "      <th></th>\n",
       "      <th>PassengerId</th>\n",
       "      <th>Survived</th>\n",
       "      <th>Pclass</th>\n",
       "      <th>Age_mean</th>\n",
       "      <th>Age_median</th>\n",
       "      <th>Age_mode</th>\n",
       "      <th>SibSp_mean</th>\n",
       "      <th>SibSp_median</th>\n",
       "      <th>SibSp_mode</th>\n",
       "      <th>Parch_mean</th>\n",
       "      <th>...</th>\n",
       "      <th>Parch_mean_z</th>\n",
       "      <th>Parch_median_z</th>\n",
       "      <th>Parch_mode_z</th>\n",
       "      <th>Fare_mean_z</th>\n",
       "      <th>Fare_median_z</th>\n",
       "      <th>Fare_mode_z</th>\n",
       "      <th>Age_lm_z</th>\n",
       "      <th>SibSp_lm_z</th>\n",
       "      <th>Parch_lm_z</th>\n",
       "      <th>Fare_lm_z</th>\n",
       "    </tr>\n",
       "  </thead>\n",
       "  <tbody>\n",
       "    <tr>\n",
       "      <th>0</th>\n",
       "      <td>2</td>\n",
       "      <td>1</td>\n",
       "      <td>1</td>\n",
       "      <td>38.000000</td>\n",
       "      <td>38.0</td>\n",
       "      <td>38.0</td>\n",
       "      <td>1.000000</td>\n",
       "      <td>1.0</td>\n",
       "      <td>1.0</td>\n",
       "      <td>0.000000</td>\n",
       "      <td>...</td>\n",
       "      <td>-6.361892e-01</td>\n",
       "      <td>-0.587235</td>\n",
       "      <td>-0.587235</td>\n",
       "      <td>-0.115056</td>\n",
       "      <td>-0.098075</td>\n",
       "      <td>-0.075040</td>\n",
       "      <td>-0.103209</td>\n",
       "      <td>1.827049</td>\n",
       "      <td>1.385711</td>\n",
       "      <td>0.636624</td>\n",
       "    </tr>\n",
       "    <tr>\n",
       "      <th>1</th>\n",
       "      <td>4</td>\n",
       "      <td>1</td>\n",
       "      <td>1</td>\n",
       "      <td>35.000000</td>\n",
       "      <td>35.0</td>\n",
       "      <td>35.0</td>\n",
       "      <td>1.000000</td>\n",
       "      <td>1.0</td>\n",
       "      <td>1.0</td>\n",
       "      <td>0.000000</td>\n",
       "      <td>...</td>\n",
       "      <td>-6.361892e-01</td>\n",
       "      <td>-0.587235</td>\n",
       "      <td>-0.587235</td>\n",
       "      <td>-0.358643</td>\n",
       "      <td>-0.341074</td>\n",
       "      <td>-0.315479</td>\n",
       "      <td>-0.103284</td>\n",
       "      <td>1.821985</td>\n",
       "      <td>1.379054</td>\n",
       "      <td>0.636352</td>\n",
       "    </tr>\n",
       "    <tr>\n",
       "      <th>2</th>\n",
       "      <td>7</td>\n",
       "      <td>0</td>\n",
       "      <td>1</td>\n",
       "      <td>54.000000</td>\n",
       "      <td>54.0</td>\n",
       "      <td>54.0</td>\n",
       "      <td>0.000000</td>\n",
       "      <td>0.0</td>\n",
       "      <td>0.0</td>\n",
       "      <td>0.000000</td>\n",
       "      <td>...</td>\n",
       "      <td>-6.361892e-01</td>\n",
       "      <td>-0.587235</td>\n",
       "      <td>-0.587235</td>\n",
       "      <td>-0.375221</td>\n",
       "      <td>-0.357612</td>\n",
       "      <td>-0.331842</td>\n",
       "      <td>1.189377</td>\n",
       "      <td>0.389877</td>\n",
       "      <td>1.156319</td>\n",
       "      <td>-0.050242</td>\n",
       "    </tr>\n",
       "    <tr>\n",
       "      <th>3</th>\n",
       "      <td>11</td>\n",
       "      <td>1</td>\n",
       "      <td>3</td>\n",
       "      <td>35.692532</td>\n",
       "      <td>35.5</td>\n",
       "      <td>24.0</td>\n",
       "      <td>1.000000</td>\n",
       "      <td>1.0</td>\n",
       "      <td>1.0</td>\n",
       "      <td>0.461988</td>\n",
       "      <td>...</td>\n",
       "      <td>7.644262e-17</td>\n",
       "      <td>-0.587235</td>\n",
       "      <td>-0.587235</td>\n",
       "      <td>-0.846264</td>\n",
       "      <td>-0.827517</td>\n",
       "      <td>-0.796798</td>\n",
       "      <td>-3.279165</td>\n",
       "      <td>-0.413573</td>\n",
       "      <td>3.376257</td>\n",
       "      <td>-3.022619</td>\n",
       "    </tr>\n",
       "    <tr>\n",
       "      <th>4</th>\n",
       "      <td>12</td>\n",
       "      <td>1</td>\n",
       "      <td>1</td>\n",
       "      <td>58.000000</td>\n",
       "      <td>58.0</td>\n",
       "      <td>58.0</td>\n",
       "      <td>0.461111</td>\n",
       "      <td>0.0</td>\n",
       "      <td>0.0</td>\n",
       "      <td>0.000000</td>\n",
       "      <td>...</td>\n",
       "      <td>-6.361892e-01</td>\n",
       "      <td>-0.587235</td>\n",
       "      <td>-0.587235</td>\n",
       "      <td>-0.714312</td>\n",
       "      <td>-0.695883</td>\n",
       "      <td>-0.666551</td>\n",
       "      <td>-0.103583</td>\n",
       "      <td>1.801729</td>\n",
       "      <td>1.352423</td>\n",
       "      <td>0.635261</td>\n",
       "    </tr>\n",
       "  </tbody>\n",
       "</table>\n",
       "<p>5 rows × 38 columns</p>\n",
       "</div>"
      ],
      "text/plain": [
       "   PassengerId  Survived  Pclass   Age_mean  Age_median  Age_mode  SibSp_mean  \\\n",
       "0            2         1       1  38.000000        38.0      38.0    1.000000   \n",
       "1            4         1       1  35.000000        35.0      35.0    1.000000   \n",
       "2            7         0       1  54.000000        54.0      54.0    0.000000   \n",
       "3           11         1       3  35.692532        35.5      24.0    1.000000   \n",
       "4           12         1       1  58.000000        58.0      58.0    0.461111   \n",
       "\n",
       "   SibSp_median  SibSp_mode  Parch_mean  ...  Parch_mean_z  Parch_median_z  \\\n",
       "0           1.0         1.0    0.000000  ... -6.361892e-01       -0.587235   \n",
       "1           1.0         1.0    0.000000  ... -6.361892e-01       -0.587235   \n",
       "2           0.0         0.0    0.000000  ... -6.361892e-01       -0.587235   \n",
       "3           1.0         1.0    0.461988  ...  7.644262e-17       -0.587235   \n",
       "4           0.0         0.0    0.000000  ... -6.361892e-01       -0.587235   \n",
       "\n",
       "   Parch_mode_z  Fare_mean_z  Fare_median_z  Fare_mode_z  Age_lm_z  \\\n",
       "0     -0.587235    -0.115056      -0.098075    -0.075040 -0.103209   \n",
       "1     -0.587235    -0.358643      -0.341074    -0.315479 -0.103284   \n",
       "2     -0.587235    -0.375221      -0.357612    -0.331842  1.189377   \n",
       "3     -0.587235    -0.846264      -0.827517    -0.796798 -3.279165   \n",
       "4     -0.587235    -0.714312      -0.695883    -0.666551 -0.103583   \n",
       "\n",
       "   SibSp_lm_z  Parch_lm_z  Fare_lm_z  \n",
       "0    1.827049    1.385711   0.636624  \n",
       "1    1.821985    1.379054   0.636352  \n",
       "2    0.389877    1.156319  -0.050242  \n",
       "3   -0.413573    3.376257  -3.022619  \n",
       "4    1.801729    1.352423   0.635261  \n",
       "\n",
       "[5 rows x 38 columns]"
      ]
     },
     "execution_count": 115,
     "metadata": {},
     "output_type": "execute_result"
    }
   ],
   "source": [
    "mean_data_tandarization.head()"
   ]
  },
  {
   "cell_type": "markdown",
   "metadata": {},
   "source": [
    "Min Max Scaler"
   ]
  },
  {
   "cell_type": "code",
   "execution_count": 94,
   "metadata": {},
   "outputs": [],
   "source": [
    "from sklearn.preprocessing import MinMaxScaler"
   ]
  },
  {
   "cell_type": "code",
   "execution_count": 95,
   "metadata": {},
   "outputs": [],
   "source": [
    "scaler = MinMaxScaler()\n",
    "mean_data_min_max = copy.deepcopy(mean_data)\n",
    "for col in mean_data_min_max.select_dtypes(include=['float', 'int']).columns:\n",
    "    mean_data_min_max[col+'_norm'] = scaler.fit_transform(mean_data_min_max[[col]])"
   ]
  },
  {
   "cell_type": "code",
   "execution_count": 96,
   "metadata": {},
   "outputs": [
    {
     "data": {
      "text/html": [
       "<div>\n",
       "<style scoped>\n",
       "    .dataframe tbody tr th:only-of-type {\n",
       "        vertical-align: middle;\n",
       "    }\n",
       "\n",
       "    .dataframe tbody tr th {\n",
       "        vertical-align: top;\n",
       "    }\n",
       "\n",
       "    .dataframe thead th {\n",
       "        text-align: right;\n",
       "    }\n",
       "</style>\n",
       "<table border=\"1\" class=\"dataframe\">\n",
       "  <thead>\n",
       "    <tr style=\"text-align: right;\">\n",
       "      <th></th>\n",
       "      <th>PassengerId</th>\n",
       "      <th>Survived</th>\n",
       "      <th>Pclass</th>\n",
       "      <th>Age_mean</th>\n",
       "      <th>Age_median</th>\n",
       "      <th>Age_mode</th>\n",
       "      <th>SibSp_mean</th>\n",
       "      <th>SibSp_median</th>\n",
       "      <th>SibSp_mode</th>\n",
       "      <th>Parch_mean</th>\n",
       "      <th>...</th>\n",
       "      <th>Parch_mean_norm</th>\n",
       "      <th>Parch_median_norm</th>\n",
       "      <th>Parch_mode_norm</th>\n",
       "      <th>Fare_mean_norm</th>\n",
       "      <th>Fare_median_norm</th>\n",
       "      <th>Fare_mode_norm</th>\n",
       "      <th>Age_lm_norm</th>\n",
       "      <th>SibSp_lm_norm</th>\n",
       "      <th>Parch_lm_norm</th>\n",
       "      <th>Fare_lm_norm</th>\n",
       "    </tr>\n",
       "  </thead>\n",
       "  <tbody>\n",
       "    <tr>\n",
       "      <th>0</th>\n",
       "      <td>2</td>\n",
       "      <td>1</td>\n",
       "      <td>1</td>\n",
       "      <td>38.000000</td>\n",
       "      <td>38.0</td>\n",
       "      <td>38.0</td>\n",
       "      <td>1.000000</td>\n",
       "      <td>1.0</td>\n",
       "      <td>1.0</td>\n",
       "      <td>0.000000</td>\n",
       "      <td>...</td>\n",
       "      <td>0.000000</td>\n",
       "      <td>0.0</td>\n",
       "      <td>0.0</td>\n",
       "      <td>0.130651</td>\n",
       "      <td>0.130651</td>\n",
       "      <td>0.130651</td>\n",
       "      <td>0.712693</td>\n",
       "      <td>1.000000</td>\n",
       "      <td>0.609903</td>\n",
       "      <td>1.000000</td>\n",
       "    </tr>\n",
       "    <tr>\n",
       "      <th>1</th>\n",
       "      <td>4</td>\n",
       "      <td>1</td>\n",
       "      <td>1</td>\n",
       "      <td>35.000000</td>\n",
       "      <td>35.0</td>\n",
       "      <td>35.0</td>\n",
       "      <td>1.000000</td>\n",
       "      <td>1.0</td>\n",
       "      <td>1.0</td>\n",
       "      <td>0.000000</td>\n",
       "      <td>...</td>\n",
       "      <td>0.000000</td>\n",
       "      <td>0.0</td>\n",
       "      <td>0.0</td>\n",
       "      <td>0.094810</td>\n",
       "      <td>0.094810</td>\n",
       "      <td>0.094810</td>\n",
       "      <td>0.712677</td>\n",
       "      <td>0.999071</td>\n",
       "      <td>0.608599</td>\n",
       "      <td>0.999939</td>\n",
       "    </tr>\n",
       "    <tr>\n",
       "      <th>2</th>\n",
       "      <td>7</td>\n",
       "      <td>0</td>\n",
       "      <td>1</td>\n",
       "      <td>54.000000</td>\n",
       "      <td>54.0</td>\n",
       "      <td>54.0</td>\n",
       "      <td>0.000000</td>\n",
       "      <td>0.0</td>\n",
       "      <td>0.0</td>\n",
       "      <td>0.000000</td>\n",
       "      <td>...</td>\n",
       "      <td>0.000000</td>\n",
       "      <td>0.0</td>\n",
       "      <td>0.0</td>\n",
       "      <td>0.092371</td>\n",
       "      <td>0.092371</td>\n",
       "      <td>0.092371</td>\n",
       "      <td>1.000000</td>\n",
       "      <td>0.736307</td>\n",
       "      <td>0.564948</td>\n",
       "      <td>0.845356</td>\n",
       "    </tr>\n",
       "    <tr>\n",
       "      <th>3</th>\n",
       "      <td>11</td>\n",
       "      <td>1</td>\n",
       "      <td>3</td>\n",
       "      <td>35.692532</td>\n",
       "      <td>35.5</td>\n",
       "      <td>24.0</td>\n",
       "      <td>1.000000</td>\n",
       "      <td>1.0</td>\n",
       "      <td>1.0</td>\n",
       "      <td>0.461988</td>\n",
       "      <td>...</td>\n",
       "      <td>0.115497</td>\n",
       "      <td>0.0</td>\n",
       "      <td>0.0</td>\n",
       "      <td>0.023062</td>\n",
       "      <td>0.023062</td>\n",
       "      <td>0.023062</td>\n",
       "      <td>0.006765</td>\n",
       "      <td>0.588890</td>\n",
       "      <td>1.000000</td>\n",
       "      <td>0.176140</td>\n",
       "    </tr>\n",
       "    <tr>\n",
       "      <th>4</th>\n",
       "      <td>12</td>\n",
       "      <td>1</td>\n",
       "      <td>1</td>\n",
       "      <td>58.000000</td>\n",
       "      <td>58.0</td>\n",
       "      <td>58.0</td>\n",
       "      <td>0.461111</td>\n",
       "      <td>0.0</td>\n",
       "      <td>0.0</td>\n",
       "      <td>0.000000</td>\n",
       "      <td>...</td>\n",
       "      <td>0.000000</td>\n",
       "      <td>0.0</td>\n",
       "      <td>0.0</td>\n",
       "      <td>0.042477</td>\n",
       "      <td>0.042477</td>\n",
       "      <td>0.042477</td>\n",
       "      <td>0.712610</td>\n",
       "      <td>0.995354</td>\n",
       "      <td>0.603380</td>\n",
       "      <td>0.999693</td>\n",
       "    </tr>\n",
       "  </tbody>\n",
       "</table>\n",
       "<p>5 rows × 38 columns</p>\n",
       "</div>"
      ],
      "text/plain": [
       "   PassengerId  Survived  Pclass   Age_mean  Age_median  Age_mode  SibSp_mean  \\\n",
       "0            2         1       1  38.000000        38.0      38.0    1.000000   \n",
       "1            4         1       1  35.000000        35.0      35.0    1.000000   \n",
       "2            7         0       1  54.000000        54.0      54.0    0.000000   \n",
       "3           11         1       3  35.692532        35.5      24.0    1.000000   \n",
       "4           12         1       1  58.000000        58.0      58.0    0.461111   \n",
       "\n",
       "   SibSp_median  SibSp_mode  Parch_mean  ...  Parch_mean_norm  \\\n",
       "0           1.0         1.0    0.000000  ...         0.000000   \n",
       "1           1.0         1.0    0.000000  ...         0.000000   \n",
       "2           0.0         0.0    0.000000  ...         0.000000   \n",
       "3           1.0         1.0    0.461988  ...         0.115497   \n",
       "4           0.0         0.0    0.000000  ...         0.000000   \n",
       "\n",
       "   Parch_median_norm  Parch_mode_norm  Fare_mean_norm  Fare_median_norm  \\\n",
       "0                0.0              0.0        0.130651          0.130651   \n",
       "1                0.0              0.0        0.094810          0.094810   \n",
       "2                0.0              0.0        0.092371          0.092371   \n",
       "3                0.0              0.0        0.023062          0.023062   \n",
       "4                0.0              0.0        0.042477          0.042477   \n",
       "\n",
       "   Fare_mode_norm  Age_lm_norm  SibSp_lm_norm  Parch_lm_norm  Fare_lm_norm  \n",
       "0        0.130651     0.712693       1.000000       0.609903      1.000000  \n",
       "1        0.094810     0.712677       0.999071       0.608599      0.999939  \n",
       "2        0.092371     1.000000       0.736307       0.564948      0.845356  \n",
       "3        0.023062     0.006765       0.588890       1.000000      0.176140  \n",
       "4        0.042477     0.712610       0.995354       0.603380      0.999693  \n",
       "\n",
       "[5 rows x 38 columns]"
      ]
     },
     "execution_count": 96,
     "metadata": {},
     "output_type": "execute_result"
    }
   ],
   "source": [
    "mean_data_min_max.head()"
   ]
  },
  {
   "cell_type": "markdown",
   "metadata": {},
   "source": [
    "Estandarización titanic.csv"
   ]
  },
  {
   "cell_type": "code",
   "execution_count": 97,
   "metadata": {},
   "outputs": [
    {
     "data": {
      "text/html": [
       "<div>\n",
       "<style scoped>\n",
       "    .dataframe tbody tr th:only-of-type {\n",
       "        vertical-align: middle;\n",
       "    }\n",
       "\n",
       "    .dataframe tbody tr th {\n",
       "        vertical-align: top;\n",
       "    }\n",
       "\n",
       "    .dataframe thead th {\n",
       "        text-align: right;\n",
       "    }\n",
       "</style>\n",
       "<table border=\"1\" class=\"dataframe\">\n",
       "  <thead>\n",
       "    <tr style=\"text-align: right;\">\n",
       "      <th></th>\n",
       "      <th>PassengerId</th>\n",
       "      <th>Survived</th>\n",
       "      <th>Pclass</th>\n",
       "      <th>Age</th>\n",
       "      <th>SibSp</th>\n",
       "      <th>Parch</th>\n",
       "      <th>Fare</th>\n",
       "    </tr>\n",
       "  </thead>\n",
       "  <tbody>\n",
       "    <tr>\n",
       "      <th>count</th>\n",
       "      <td>183.000000</td>\n",
       "      <td>183.000000</td>\n",
       "      <td>183.000000</td>\n",
       "      <td>183.000000</td>\n",
       "      <td>183.000000</td>\n",
       "      <td>183.000000</td>\n",
       "      <td>183.000000</td>\n",
       "    </tr>\n",
       "    <tr>\n",
       "      <th>mean</th>\n",
       "      <td>455.366120</td>\n",
       "      <td>0.672131</td>\n",
       "      <td>1.191257</td>\n",
       "      <td>35.674426</td>\n",
       "      <td>0.464481</td>\n",
       "      <td>0.475410</td>\n",
       "      <td>78.682469</td>\n",
       "    </tr>\n",
       "    <tr>\n",
       "      <th>std</th>\n",
       "      <td>247.052476</td>\n",
       "      <td>0.470725</td>\n",
       "      <td>0.515187</td>\n",
       "      <td>15.643866</td>\n",
       "      <td>0.644159</td>\n",
       "      <td>0.754617</td>\n",
       "      <td>76.347843</td>\n",
       "    </tr>\n",
       "    <tr>\n",
       "      <th>min</th>\n",
       "      <td>2.000000</td>\n",
       "      <td>0.000000</td>\n",
       "      <td>1.000000</td>\n",
       "      <td>0.920000</td>\n",
       "      <td>0.000000</td>\n",
       "      <td>0.000000</td>\n",
       "      <td>0.000000</td>\n",
       "    </tr>\n",
       "    <tr>\n",
       "      <th>25%</th>\n",
       "      <td>263.500000</td>\n",
       "      <td>0.000000</td>\n",
       "      <td>1.000000</td>\n",
       "      <td>24.000000</td>\n",
       "      <td>0.000000</td>\n",
       "      <td>0.000000</td>\n",
       "      <td>29.700000</td>\n",
       "    </tr>\n",
       "    <tr>\n",
       "      <th>50%</th>\n",
       "      <td>457.000000</td>\n",
       "      <td>1.000000</td>\n",
       "      <td>1.000000</td>\n",
       "      <td>36.000000</td>\n",
       "      <td>0.000000</td>\n",
       "      <td>0.000000</td>\n",
       "      <td>57.000000</td>\n",
       "    </tr>\n",
       "    <tr>\n",
       "      <th>75%</th>\n",
       "      <td>676.000000</td>\n",
       "      <td>1.000000</td>\n",
       "      <td>1.000000</td>\n",
       "      <td>47.500000</td>\n",
       "      <td>1.000000</td>\n",
       "      <td>1.000000</td>\n",
       "      <td>90.000000</td>\n",
       "    </tr>\n",
       "    <tr>\n",
       "      <th>max</th>\n",
       "      <td>890.000000</td>\n",
       "      <td>1.000000</td>\n",
       "      <td>3.000000</td>\n",
       "      <td>80.000000</td>\n",
       "      <td>3.000000</td>\n",
       "      <td>4.000000</td>\n",
       "      <td>512.329200</td>\n",
       "    </tr>\n",
       "  </tbody>\n",
       "</table>\n",
       "</div>"
      ],
      "text/plain": [
       "       PassengerId    Survived      Pclass         Age       SibSp  \\\n",
       "count   183.000000  183.000000  183.000000  183.000000  183.000000   \n",
       "mean    455.366120    0.672131    1.191257   35.674426    0.464481   \n",
       "std     247.052476    0.470725    0.515187   15.643866    0.644159   \n",
       "min       2.000000    0.000000    1.000000    0.920000    0.000000   \n",
       "25%     263.500000    0.000000    1.000000   24.000000    0.000000   \n",
       "50%     457.000000    1.000000    1.000000   36.000000    0.000000   \n",
       "75%     676.000000    1.000000    1.000000   47.500000    1.000000   \n",
       "max     890.000000    1.000000    3.000000   80.000000    3.000000   \n",
       "\n",
       "            Parch        Fare  \n",
       "count  183.000000  183.000000  \n",
       "mean     0.475410   78.682469  \n",
       "std      0.754617   76.347843  \n",
       "min      0.000000    0.000000  \n",
       "25%      0.000000   29.700000  \n",
       "50%      0.000000   57.000000  \n",
       "75%      1.000000   90.000000  \n",
       "max      4.000000  512.329200  "
      ]
     },
     "execution_count": 97,
     "metadata": {},
     "output_type": "execute_result"
    }
   ],
   "source": [
    "titanic.describe()"
   ]
  },
  {
   "cell_type": "markdown",
   "metadata": {},
   "source": [
    "Standarization"
   ]
  },
  {
   "cell_type": "code",
   "execution_count": 98,
   "metadata": {},
   "outputs": [],
   "source": [
    "scaler = StandardScaler()\n",
    "titanic_tandarization = copy.deepcopy(titanic)\n",
    "titanic_tandarization = titanic_tandarization[[\"PassengerId\",\"Survived\",\"Pclass\",\"Age\",\"SibSp\",\"Parch\",\"Fare\"]]\n",
    "for col in titanic_tandarization.select_dtypes(include=['float', 'int']).columns:\n",
    "    titanic_tandarization[col+'_z'] = scaler.fit_transform(titanic_tandarization[[col]])"
   ]
  },
  {
   "cell_type": "code",
   "execution_count": 99,
   "metadata": {},
   "outputs": [
    {
     "data": {
      "text/html": [
       "<div>\n",
       "<style scoped>\n",
       "    .dataframe tbody tr th:only-of-type {\n",
       "        vertical-align: middle;\n",
       "    }\n",
       "\n",
       "    .dataframe tbody tr th {\n",
       "        vertical-align: top;\n",
       "    }\n",
       "\n",
       "    .dataframe thead th {\n",
       "        text-align: right;\n",
       "    }\n",
       "</style>\n",
       "<table border=\"1\" class=\"dataframe\">\n",
       "  <thead>\n",
       "    <tr style=\"text-align: right;\">\n",
       "      <th></th>\n",
       "      <th>PassengerId</th>\n",
       "      <th>Survived</th>\n",
       "      <th>Pclass</th>\n",
       "      <th>Age</th>\n",
       "      <th>SibSp</th>\n",
       "      <th>Parch</th>\n",
       "      <th>Fare</th>\n",
       "      <th>PassengerId_z</th>\n",
       "      <th>Survived_z</th>\n",
       "      <th>Pclass_z</th>\n",
       "      <th>Age_z</th>\n",
       "      <th>SibSp_z</th>\n",
       "      <th>Parch_z</th>\n",
       "      <th>Fare_z</th>\n",
       "    </tr>\n",
       "  </thead>\n",
       "  <tbody>\n",
       "    <tr>\n",
       "      <th>0</th>\n",
       "      <td>2</td>\n",
       "      <td>1</td>\n",
       "      <td>1</td>\n",
       "      <td>38.0</td>\n",
       "      <td>1</td>\n",
       "      <td>0</td>\n",
       "      <td>71.2833</td>\n",
       "      <td>-1.840135</td>\n",
       "      <td>0.698430</td>\n",
       "      <td>-0.372256</td>\n",
       "      <td>0.149065</td>\n",
       "      <td>0.833628</td>\n",
       "      <td>-0.631730</td>\n",
       "      <td>-0.097180</td>\n",
       "    </tr>\n",
       "    <tr>\n",
       "      <th>1</th>\n",
       "      <td>4</td>\n",
       "      <td>1</td>\n",
       "      <td>1</td>\n",
       "      <td>35.0</td>\n",
       "      <td>1</td>\n",
       "      <td>0</td>\n",
       "      <td>53.1000</td>\n",
       "      <td>-1.832017</td>\n",
       "      <td>0.698430</td>\n",
       "      <td>-0.372256</td>\n",
       "      <td>-0.043230</td>\n",
       "      <td>0.833628</td>\n",
       "      <td>-0.631730</td>\n",
       "      <td>-0.335997</td>\n",
       "    </tr>\n",
       "    <tr>\n",
       "      <th>2</th>\n",
       "      <td>7</td>\n",
       "      <td>0</td>\n",
       "      <td>1</td>\n",
       "      <td>54.0</td>\n",
       "      <td>0</td>\n",
       "      <td>0</td>\n",
       "      <td>51.8625</td>\n",
       "      <td>-1.819841</td>\n",
       "      <td>-1.431782</td>\n",
       "      <td>-0.372256</td>\n",
       "      <td>1.174636</td>\n",
       "      <td>-0.723044</td>\n",
       "      <td>-0.631730</td>\n",
       "      <td>-0.352250</td>\n",
       "    </tr>\n",
       "    <tr>\n",
       "      <th>3</th>\n",
       "      <td>11</td>\n",
       "      <td>1</td>\n",
       "      <td>3</td>\n",
       "      <td>4.0</td>\n",
       "      <td>1</td>\n",
       "      <td>1</td>\n",
       "      <td>16.7000</td>\n",
       "      <td>-1.803606</td>\n",
       "      <td>0.698430</td>\n",
       "      <td>3.520480</td>\n",
       "      <td>-2.030273</td>\n",
       "      <td>0.833628</td>\n",
       "      <td>0.697081</td>\n",
       "      <td>-0.814070</td>\n",
       "    </tr>\n",
       "    <tr>\n",
       "      <th>4</th>\n",
       "      <td>12</td>\n",
       "      <td>1</td>\n",
       "      <td>1</td>\n",
       "      <td>58.0</td>\n",
       "      <td>0</td>\n",
       "      <td>0</td>\n",
       "      <td>26.5500</td>\n",
       "      <td>-1.799547</td>\n",
       "      <td>0.698430</td>\n",
       "      <td>-0.372256</td>\n",
       "      <td>1.431029</td>\n",
       "      <td>-0.723044</td>\n",
       "      <td>-0.631730</td>\n",
       "      <td>-0.684702</td>\n",
       "    </tr>\n",
       "  </tbody>\n",
       "</table>\n",
       "</div>"
      ],
      "text/plain": [
       "   PassengerId  Survived  Pclass   Age  SibSp  Parch     Fare  PassengerId_z  \\\n",
       "0            2         1       1  38.0      1      0  71.2833      -1.840135   \n",
       "1            4         1       1  35.0      1      0  53.1000      -1.832017   \n",
       "2            7         0       1  54.0      0      0  51.8625      -1.819841   \n",
       "3           11         1       3   4.0      1      1  16.7000      -1.803606   \n",
       "4           12         1       1  58.0      0      0  26.5500      -1.799547   \n",
       "\n",
       "   Survived_z  Pclass_z     Age_z   SibSp_z   Parch_z    Fare_z  \n",
       "0    0.698430 -0.372256  0.149065  0.833628 -0.631730 -0.097180  \n",
       "1    0.698430 -0.372256 -0.043230  0.833628 -0.631730 -0.335997  \n",
       "2   -1.431782 -0.372256  1.174636 -0.723044 -0.631730 -0.352250  \n",
       "3    0.698430  3.520480 -2.030273  0.833628  0.697081 -0.814070  \n",
       "4    0.698430 -0.372256  1.431029 -0.723044 -0.631730 -0.684702  "
      ]
     },
     "execution_count": 99,
     "metadata": {},
     "output_type": "execute_result"
    }
   ],
   "source": [
    "titanic_tandarization.head()"
   ]
  },
  {
   "cell_type": "markdown",
   "metadata": {},
   "source": [
    "Min Max Scaler"
   ]
  },
  {
   "cell_type": "code",
   "execution_count": 100,
   "metadata": {},
   "outputs": [],
   "source": [
    "\n",
    "from sklearn.preprocessing import MinMaxScaler"
   ]
  },
  {
   "cell_type": "code",
   "execution_count": 101,
   "metadata": {},
   "outputs": [],
   "source": [
    "scaler = MinMaxScaler()\n",
    "titanic_min_max = copy.deepcopy(titanic)\n",
    "titanic_min_max = titanic_min_max[[\"PassengerId\",\"Survived\",\"Pclass\",\"Age\",\"SibSp\",\"Parch\",\"Fare\"]]\n",
    "for col in titanic_min_max.select_dtypes(include=['float', 'int']).columns:\n",
    "    titanic_min_max[col+'_norm'] = scaler.fit_transform(titanic_min_max[[col]])"
   ]
  },
  {
   "cell_type": "code",
   "execution_count": 102,
   "metadata": {},
   "outputs": [
    {
     "data": {
      "text/html": [
       "<div>\n",
       "<style scoped>\n",
       "    .dataframe tbody tr th:only-of-type {\n",
       "        vertical-align: middle;\n",
       "    }\n",
       "\n",
       "    .dataframe tbody tr th {\n",
       "        vertical-align: top;\n",
       "    }\n",
       "\n",
       "    .dataframe thead th {\n",
       "        text-align: right;\n",
       "    }\n",
       "</style>\n",
       "<table border=\"1\" class=\"dataframe\">\n",
       "  <thead>\n",
       "    <tr style=\"text-align: right;\">\n",
       "      <th></th>\n",
       "      <th>PassengerId</th>\n",
       "      <th>Survived</th>\n",
       "      <th>Pclass</th>\n",
       "      <th>Age</th>\n",
       "      <th>SibSp</th>\n",
       "      <th>Parch</th>\n",
       "      <th>Fare</th>\n",
       "      <th>PassengerId_norm</th>\n",
       "      <th>Survived_norm</th>\n",
       "      <th>Pclass_norm</th>\n",
       "      <th>Age_norm</th>\n",
       "      <th>SibSp_norm</th>\n",
       "      <th>Parch_norm</th>\n",
       "      <th>Fare_norm</th>\n",
       "    </tr>\n",
       "  </thead>\n",
       "  <tbody>\n",
       "    <tr>\n",
       "      <th>0</th>\n",
       "      <td>2</td>\n",
       "      <td>1</td>\n",
       "      <td>1</td>\n",
       "      <td>38.0</td>\n",
       "      <td>1</td>\n",
       "      <td>0</td>\n",
       "      <td>71.2833</td>\n",
       "      <td>0.000000</td>\n",
       "      <td>1.0</td>\n",
       "      <td>0.0</td>\n",
       "      <td>0.468892</td>\n",
       "      <td>0.333333</td>\n",
       "      <td>0.00</td>\n",
       "      <td>0.139136</td>\n",
       "    </tr>\n",
       "    <tr>\n",
       "      <th>1</th>\n",
       "      <td>4</td>\n",
       "      <td>1</td>\n",
       "      <td>1</td>\n",
       "      <td>35.0</td>\n",
       "      <td>1</td>\n",
       "      <td>0</td>\n",
       "      <td>53.1000</td>\n",
       "      <td>0.002252</td>\n",
       "      <td>1.0</td>\n",
       "      <td>0.0</td>\n",
       "      <td>0.430956</td>\n",
       "      <td>0.333333</td>\n",
       "      <td>0.00</td>\n",
       "      <td>0.103644</td>\n",
       "    </tr>\n",
       "    <tr>\n",
       "      <th>2</th>\n",
       "      <td>7</td>\n",
       "      <td>0</td>\n",
       "      <td>1</td>\n",
       "      <td>54.0</td>\n",
       "      <td>0</td>\n",
       "      <td>0</td>\n",
       "      <td>51.8625</td>\n",
       "      <td>0.005631</td>\n",
       "      <td>0.0</td>\n",
       "      <td>0.0</td>\n",
       "      <td>0.671219</td>\n",
       "      <td>0.000000</td>\n",
       "      <td>0.00</td>\n",
       "      <td>0.101229</td>\n",
       "    </tr>\n",
       "    <tr>\n",
       "      <th>3</th>\n",
       "      <td>11</td>\n",
       "      <td>1</td>\n",
       "      <td>3</td>\n",
       "      <td>4.0</td>\n",
       "      <td>1</td>\n",
       "      <td>1</td>\n",
       "      <td>16.7000</td>\n",
       "      <td>0.010135</td>\n",
       "      <td>1.0</td>\n",
       "      <td>1.0</td>\n",
       "      <td>0.038948</td>\n",
       "      <td>0.333333</td>\n",
       "      <td>0.25</td>\n",
       "      <td>0.032596</td>\n",
       "    </tr>\n",
       "    <tr>\n",
       "      <th>4</th>\n",
       "      <td>12</td>\n",
       "      <td>1</td>\n",
       "      <td>1</td>\n",
       "      <td>58.0</td>\n",
       "      <td>0</td>\n",
       "      <td>0</td>\n",
       "      <td>26.5500</td>\n",
       "      <td>0.011261</td>\n",
       "      <td>1.0</td>\n",
       "      <td>0.0</td>\n",
       "      <td>0.721801</td>\n",
       "      <td>0.000000</td>\n",
       "      <td>0.00</td>\n",
       "      <td>0.051822</td>\n",
       "    </tr>\n",
       "  </tbody>\n",
       "</table>\n",
       "</div>"
      ],
      "text/plain": [
       "   PassengerId  Survived  Pclass   Age  SibSp  Parch     Fare  \\\n",
       "0            2         1       1  38.0      1      0  71.2833   \n",
       "1            4         1       1  35.0      1      0  53.1000   \n",
       "2            7         0       1  54.0      0      0  51.8625   \n",
       "3           11         1       3   4.0      1      1  16.7000   \n",
       "4           12         1       1  58.0      0      0  26.5500   \n",
       "\n",
       "   PassengerId_norm  Survived_norm  Pclass_norm  Age_norm  SibSp_norm  \\\n",
       "0          0.000000            1.0          0.0  0.468892    0.333333   \n",
       "1          0.002252            1.0          0.0  0.430956    0.333333   \n",
       "2          0.005631            0.0          0.0  0.671219    0.000000   \n",
       "3          0.010135            1.0          1.0  0.038948    0.333333   \n",
       "4          0.011261            1.0          0.0  0.721801    0.000000   \n",
       "\n",
       "   Parch_norm  Fare_norm  \n",
       "0        0.00   0.139136  \n",
       "1        0.00   0.103644  \n",
       "2        0.00   0.101229  \n",
       "3        0.25   0.032596  \n",
       "4        0.00   0.051822  "
      ]
     },
     "execution_count": 102,
     "metadata": {},
     "output_type": "execute_result"
    }
   ],
   "source": [
    "titanic_min_max.head()"
   ]
  },
  {
   "cell_type": "markdown",
   "metadata": {},
   "source": [
    "### 2.\tCompare los estadísticos que considere más importantes para su conclusión y compare contra la data completa de “titanic.csv” (deberán de normalizar también). "
   ]
  },
  {
   "cell_type": "markdown",
   "metadata": {},
   "source": [
    "Standarization análisis"
   ]
  },
  {
   "cell_type": "code",
   "execution_count": 119,
   "metadata": {},
   "outputs": [
    {
     "data": {
      "text/plain": [
       "PassengerId_z     0.0\n",
       "Survived_z        0.0\n",
       "Pclass_z          0.0\n",
       "Age_z            -0.0\n",
       "SibSp_z          -0.0\n",
       "Parch_z           0.0\n",
       "Fare_z            0.0\n",
       "PassengerId_z2    0.0\n",
       "Survived_z2       0.0\n",
       "Pclass_z2         0.0\n",
       "Age_mean_z       -0.0\n",
       "Age_median_z     -0.0\n",
       "Age_mode_z       -0.0\n",
       "SibSp_mean_z      0.0\n",
       "SibSp_median_z   -0.0\n",
       "SibSp_mode_z     -0.0\n",
       "Parch_mean_z      0.0\n",
       "Parch_median_z   -0.0\n",
       "Parch_mode_z     -0.0\n",
       "Fare_mean_z       0.0\n",
       "Fare_median_z    -0.0\n",
       "Fare_mode_z       0.0\n",
       "Age_lm_z         -0.0\n",
       "SibSp_lm_z        0.0\n",
       "Parch_lm_z       -0.0\n",
       "Fare_lm_z        -0.0\n",
       "dtype: float64"
      ]
     },
     "execution_count": 119,
     "metadata": {},
     "output_type": "execute_result"
    }
   ],
   "source": [
    "analisis_stand = pd.merge(titanic_tandarization.iloc[:,7:],mean_data_tandarization.iloc[:,19:],left_index=True, right_index=True, suffixes=('', '2'))\n",
    "round(analisis_stand.mean(),2)"
   ]
  },
  {
   "cell_type": "code",
   "execution_count": 120,
   "metadata": {},
   "outputs": [
    {
     "data": {
      "text/plain": [
       "PassengerId_z     1.0\n",
       "Survived_z        1.0\n",
       "Pclass_z          1.0\n",
       "Age_z             1.0\n",
       "SibSp_z           1.0\n",
       "Parch_z           1.0\n",
       "Fare_z            1.0\n",
       "PassengerId_z2    1.0\n",
       "Survived_z2       1.0\n",
       "Pclass_z2         1.0\n",
       "Age_mean_z        1.0\n",
       "Age_median_z      1.0\n",
       "Age_mode_z        1.0\n",
       "SibSp_mean_z      1.0\n",
       "SibSp_median_z    1.0\n",
       "SibSp_mode_z      1.0\n",
       "Parch_mean_z      1.0\n",
       "Parch_median_z    1.0\n",
       "Parch_mode_z      1.0\n",
       "Fare_mean_z       1.0\n",
       "Fare_median_z     1.0\n",
       "Fare_mode_z       1.0\n",
       "Age_lm_z          1.0\n",
       "SibSp_lm_z        1.0\n",
       "Parch_lm_z        1.0\n",
       "Fare_lm_z         1.0\n",
       "dtype: float64"
      ]
     },
     "execution_count": 120,
     "metadata": {},
     "output_type": "execute_result"
    }
   ],
   "source": [
    "round(analisis_stand.std(),2)"
   ]
  },
  {
   "cell_type": "code",
   "execution_count": 121,
   "metadata": {},
   "outputs": [
    {
     "data": {
      "text/plain": [
       "PassengerId_z     1.76\n",
       "Survived_z        0.70\n",
       "Pclass_z          3.52\n",
       "Age_z             2.84\n",
       "SibSp_z           3.95\n",
       "Parch_z           4.68\n",
       "Fare_z            5.70\n",
       "PassengerId_z2    1.76\n",
       "Survived_z2       0.70\n",
       "Pclass_z2         3.52\n",
       "Age_mean_z        3.06\n",
       "Age_median_z      3.06\n",
       "Age_mode_z        3.05\n",
       "SibSp_mean_z      3.97\n",
       "SibSp_median_z    3.97\n",
       "SibSp_mode_z      3.97\n",
       "Parch_mean_z      4.87\n",
       "Parch_median_z    4.85\n",
       "Parch_mode_z      4.85\n",
       "Fare_mean_z       5.79\n",
       "Fare_median_z     5.80\n",
       "Fare_mode_z       5.76\n",
       "Age_lm_z          1.19\n",
       "SibSp_lm_z        1.83\n",
       "Parch_lm_z        3.38\n",
       "Fare_lm_z         0.64\n",
       "dtype: float64"
      ]
     },
     "execution_count": 121,
     "metadata": {},
     "output_type": "execute_result"
    }
   ],
   "source": [
    "round(analisis_stand.max(),2)"
   ]
  },
  {
   "cell_type": "code",
   "execution_count": 122,
   "metadata": {},
   "outputs": [
    {
     "data": {
      "text/plain": [
       "PassengerId_z    -1.84\n",
       "Survived_z       -1.43\n",
       "Pclass_z         -0.37\n",
       "Age_z            -2.23\n",
       "SibSp_z          -0.72\n",
       "Parch_z          -0.63\n",
       "Fare_z           -1.03\n",
       "PassengerId_z2   -1.84\n",
       "Survived_z2      -1.43\n",
       "Pclass_z2        -0.37\n",
       "Age_mean_z       -2.40\n",
       "Age_median_z     -2.40\n",
       "Age_mode_z       -2.21\n",
       "SibSp_mean_z     -0.72\n",
       "SibSp_median_z   -0.71\n",
       "SibSp_mode_z     -0.71\n",
       "Parch_mean_z     -0.64\n",
       "Parch_median_z   -0.59\n",
       "Parch_mode_z     -0.59\n",
       "Fare_mean_z      -1.00\n",
       "Fare_median_z    -0.98\n",
       "Fare_mode_z      -0.95\n",
       "Age_lm_z         -3.31\n",
       "SibSp_lm_z       -3.62\n",
       "Parch_lm_z       -1.73\n",
       "Fare_lm_z        -3.80\n",
       "dtype: float64"
      ]
     },
     "execution_count": 122,
     "metadata": {},
     "output_type": "execute_result"
    }
   ],
   "source": [
    "round(analisis_stand.min(),2)"
   ]
  },
  {
   "cell_type": "markdown",
   "metadata": {},
   "source": [
    "Conclusión: Al estandarizar la data se puede observar que la media es igual a 0 en todos los casos y la desviación es 1. Sin embargo, al tener estandarizada la data es más facil hacer una comparación entre los minimos y máximos, el modelo que se aleja mucho del máximo es cuando se realizó una imputación por la media y el modelo que se aleja de los minimos es cuando se realizó una imputación por la moda. "
   ]
  },
  {
   "cell_type": "markdown",
   "metadata": {},
   "source": [
    "MinMaxScaling análisis"
   ]
  },
  {
   "cell_type": "code",
   "execution_count": 123,
   "metadata": {},
   "outputs": [
    {
     "data": {
      "text/plain": [
       "PassengerId_norm     0.51\n",
       "Survived_norm        0.67\n",
       "Pclass_norm          0.10\n",
       "Age_norm             0.44\n",
       "SibSp_norm           0.15\n",
       "Parch_norm           0.12\n",
       "Fare_norm            0.15\n",
       "PassengerId_norm2    0.51\n",
       "Survived_norm2       0.67\n",
       "Pclass_norm2         0.10\n",
       "Age_mean_norm        0.44\n",
       "Age_median_norm      0.44\n",
       "Age_mode_norm        0.42\n",
       "SibSp_mean_norm      0.15\n",
       "SibSp_median_norm    0.15\n",
       "SibSp_mode_norm      0.15\n",
       "Parch_mean_norm      0.12\n",
       "Parch_median_norm    0.11\n",
       "Parch_mode_norm      0.11\n",
       "Fare_mean_norm       0.15\n",
       "Fare_median_norm     0.15\n",
       "Fare_mode_norm       0.14\n",
       "Age_lm_norm          0.74\n",
       "SibSp_lm_norm        0.66\n",
       "Parch_lm_norm        0.34\n",
       "Fare_lm_norm         0.86\n",
       "dtype: float64"
      ]
     },
     "execution_count": 123,
     "metadata": {},
     "output_type": "execute_result"
    }
   ],
   "source": [
    "analisis_max_min = pd.merge(titanic_min_max.iloc[:,7:],mean_data_min_max.iloc[:,19:],left_index=True, right_index=True, suffixes=('', '2'))\n",
    "round(analisis_max_min.mean(),2)"
   ]
  },
  {
   "cell_type": "code",
   "execution_count": 124,
   "metadata": {},
   "outputs": [
    {
     "data": {
      "text/plain": [
       "PassengerId_norm     1.0\n",
       "Survived_norm        1.0\n",
       "Pclass_norm          1.0\n",
       "Age_norm             1.0\n",
       "SibSp_norm           1.0\n",
       "Parch_norm           1.0\n",
       "Fare_norm            1.0\n",
       "PassengerId_norm2    1.0\n",
       "Survived_norm2       1.0\n",
       "Pclass_norm2         1.0\n",
       "Age_mean_norm        1.0\n",
       "Age_median_norm      1.0\n",
       "Age_mode_norm        1.0\n",
       "SibSp_mean_norm      1.0\n",
       "SibSp_median_norm    1.0\n",
       "SibSp_mode_norm      1.0\n",
       "Parch_mean_norm      1.0\n",
       "Parch_median_norm    1.0\n",
       "Parch_mode_norm      1.0\n",
       "Fare_mean_norm       1.0\n",
       "Fare_median_norm     1.0\n",
       "Fare_mode_norm       1.0\n",
       "Age_lm_norm          1.0\n",
       "SibSp_lm_norm        1.0\n",
       "Parch_lm_norm        1.0\n",
       "Fare_lm_norm         1.0\n",
       "dtype: float64"
      ]
     },
     "execution_count": 124,
     "metadata": {},
     "output_type": "execute_result"
    }
   ],
   "source": [
    "round(analisis_max_min.max(),2)"
   ]
  },
  {
   "cell_type": "code",
   "execution_count": 125,
   "metadata": {},
   "outputs": [
    {
     "data": {
      "text/plain": [
       "PassengerId_norm     0.0\n",
       "Survived_norm        0.0\n",
       "Pclass_norm          0.0\n",
       "Age_norm             0.0\n",
       "SibSp_norm           0.0\n",
       "Parch_norm           0.0\n",
       "Fare_norm            0.0\n",
       "PassengerId_norm2    0.0\n",
       "Survived_norm2       0.0\n",
       "Pclass_norm2         0.0\n",
       "Age_mean_norm        0.0\n",
       "Age_median_norm      0.0\n",
       "Age_mode_norm        0.0\n",
       "SibSp_mean_norm      0.0\n",
       "SibSp_median_norm    0.0\n",
       "SibSp_mode_norm      0.0\n",
       "Parch_mean_norm      0.0\n",
       "Parch_median_norm    0.0\n",
       "Parch_mode_norm      0.0\n",
       "Fare_mean_norm       0.0\n",
       "Fare_median_norm     0.0\n",
       "Fare_mode_norm       0.0\n",
       "Age_lm_norm          0.0\n",
       "SibSp_lm_norm        0.0\n",
       "Parch_lm_norm        0.0\n",
       "Fare_lm_norm         0.0\n",
       "dtype: float64"
      ]
     },
     "execution_count": 125,
     "metadata": {},
     "output_type": "execute_result"
    }
   ],
   "source": [
    "round(analisis_max_min.min(),2)"
   ]
  },
  {
   "cell_type": "markdown",
   "metadata": {},
   "source": [
    "Conclusión: Se puede observar que haciendo una normalización por min max la escala se cambia entre 0 y 1, el modelo que mejor sigue la distribución es una imputación por la media. "
   ]
  },
  {
   "cell_type": "markdown",
   "metadata": {},
   "source": [
    "En general las imputaciones que se realizaron por medio de una regresión lineal nunca se ajustarón al modelo real, una de las principales razones puede ser que no se utilizaron todas las columnas por tener missing values."
   ]
  }
 ],
 "metadata": {
  "kernelspec": {
   "display_name": "Python 3.8.2 32-bit",
   "language": "python",
   "name": "python3"
  },
  "language_info": {
   "codemirror_mode": {
    "name": "ipython",
    "version": 3
   },
   "file_extension": ".py",
   "mimetype": "text/x-python",
   "name": "python",
   "nbconvert_exporter": "python",
   "pygments_lexer": "ipython3",
   "version": "3.8.2"
  },
  "orig_nbformat": 4,
  "vscode": {
   "interpreter": {
    "hash": "b568a1e1443a88e72af66220e02b6fc2c089dc9412094da33c1d97bb71add90c"
   }
  }
 },
 "nbformat": 4,
 "nbformat_minor": 2
}
